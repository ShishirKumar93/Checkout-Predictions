{
 "cells": [
  {
   "cell_type": "markdown",
   "metadata": {},
   "source": [
    "### We have the library inventory and checkouts data from Seattle Public Library. Our objective is to predict which books will be checked out next month. Lets load up the datasets."
   ]
  },
  {
   "cell_type": "code",
   "execution_count": 1,
   "metadata": {},
   "outputs": [
    {
     "data": {
      "application/vnd.jupyter.widget-view+json": {
       "model_id": "f6123c12f2bd49a9b08172a1eae4c785",
       "version_major": 2,
       "version_minor": 0
      },
      "text/plain": [
       "VBox()"
      ]
     },
     "metadata": {},
     "output_type": "display_data"
    },
    {
     "name": "stdout",
     "output_type": "stream",
     "text": [
      "Starting Spark application\n"
     ]
    },
    {
     "data": {
      "text/html": [
       "<table>\n",
       "<tr><th>ID</th><th>YARN Application ID</th><th>Kind</th><th>State</th><th>Spark UI</th><th>Driver log</th><th>Current session?</th></tr><tr><td>6</td><td>application_1579135619846_0007</td><td>pyspark</td><td>idle</td><td><a target=\"_blank\" href=\"http://ip-172-31-7-17.us-west-2.compute.internal:20888/proxy/application_1579135619846_0007/\">Link</a></td><td><a target=\"_blank\" href=\"http://ip-172-31-0-26.us-west-2.compute.internal:8042/node/containerlogs/container_1579135619846_0007_01_000001/livy\">Link</a></td><td>✔</td></tr></table>"
      ],
      "text/plain": [
       "<IPython.core.display.HTML object>"
      ]
     },
     "metadata": {},
     "output_type": "display_data"
    },
    {
     "data": {
      "application/vnd.jupyter.widget-view+json": {
       "model_id": "",
       "version_major": 2,
       "version_minor": 0
      },
      "text/plain": [
       "FloatProgress(value=0.0, bar_style='info', description='Progress:', layout=Layout(height='25px', width='50%'),…"
      ]
     },
     "metadata": {},
     "output_type": "display_data"
    },
    {
     "name": "stdout",
     "output_type": "stream",
     "text": [
      "SparkSession available as 'spark'.\n"
     ]
    },
    {
     "data": {
      "application/vnd.jupyter.widget-view+json": {
       "model_id": "",
       "version_major": 2,
       "version_minor": 0
      },
      "text/plain": [
       "FloatProgress(value=0.0, bar_style='info', description='Progress:', layout=Layout(height='25px', width='50%'),…"
      ]
     },
     "metadata": {},
     "output_type": "display_data"
    },
    {
     "name": "stdout",
     "output_type": "stream",
     "text": [
      "<SparkContext master=yarn appName=livy-session-6>"
     ]
    }
   ],
   "source": [
    "### Initiating Spark Context\n",
    "sc"
   ]
  },
  {
   "cell_type": "code",
   "execution_count": 194,
   "metadata": {},
   "outputs": [
    {
     "data": {
      "application/vnd.jupyter.widget-view+json": {
       "model_id": "faf94f4e36e8402f87ea0faefd1e9420",
       "version_major": 2,
       "version_minor": 0
      },
      "text/plain": [
       "VBox()"
      ]
     },
     "metadata": {},
     "output_type": "display_data"
    },
    {
     "data": {
      "application/vnd.jupyter.widget-view+json": {
       "model_id": "",
       "version_major": 2,
       "version_minor": 0
      },
      "text/plain": [
       "FloatProgress(value=0.0, bar_style='info', description='Progress:', layout=Layout(height='25px', width='50%'),…"
      ]
     },
     "metadata": {},
     "output_type": "display_data"
    }
   ],
   "source": [
    "from pyspark.sql import SparkSession, SQLContext\n",
    "from pyspark.sql.functions import desc, col, udf, max as max_, lit\n",
    "from datetime import datetime\n",
    "from pyspark.sql.types import DateType, IntegerType"
   ]
  },
  {
   "cell_type": "code",
   "execution_count": 3,
   "metadata": {},
   "outputs": [
    {
     "data": {
      "application/vnd.jupyter.widget-view+json": {
       "model_id": "35ae7261622846378f7c7f1e4160232a",
       "version_major": 2,
       "version_minor": 0
      },
      "text/plain": [
       "VBox()"
      ]
     },
     "metadata": {},
     "output_type": "display_data"
    },
    {
     "data": {
      "application/vnd.jupyter.widget-view+json": {
       "model_id": "",
       "version_major": 2,
       "version_minor": 0
      },
      "text/plain": [
       "FloatProgress(value=0.0, bar_style='info', description='Progress:', layout=Layout(height='25px', width='50%'),…"
      ]
     },
     "metadata": {},
     "output_type": "display_data"
    },
    {
     "name": "stdout",
     "output_type": "stream",
     "text": [
      "root\n",
      " |-- BibNum: integer (nullable = true)\n",
      " |-- PublicationYear: integer (nullable = true)\n",
      " |-- Author: string (nullable = true)\n",
      " |-- Publisher: string (nullable = true)\n",
      " |-- ItemType: string (nullable = true)\n",
      " |-- ItemCollection: string (nullable = true)\n",
      " |-- ItemLocation: string (nullable = true)\n",
      " |-- ItemCount: integer (nullable = true)\n",
      " |-- ReportDate: date (nullable = true)"
     ]
    }
   ],
   "source": [
    "ss = SparkSession.builder.getOrCreate()\n",
    "sqlcontext = SQLContext(sc)\n",
    "inventory_df = sqlcontext.read.parquet('s3://intersession-distcomp/Inventory')\n",
    "inventory_df.printSchema()"
   ]
  },
  {
   "cell_type": "code",
   "execution_count": 4,
   "metadata": {},
   "outputs": [
    {
     "data": {
      "application/vnd.jupyter.widget-view+json": {
       "model_id": "526dd4f87ad44abd9cc33b7e31386aa2",
       "version_major": 2,
       "version_minor": 0
      },
      "text/plain": [
       "VBox()"
      ]
     },
     "metadata": {},
     "output_type": "display_data"
    },
    {
     "data": {
      "application/vnd.jupyter.widget-view+json": {
       "model_id": "",
       "version_major": 2,
       "version_minor": 0
      },
      "text/plain": [
       "FloatProgress(value=0.0, bar_style='info', description='Progress:', layout=Layout(height='25px', width='50%'),…"
      ]
     },
     "metadata": {},
     "output_type": "display_data"
    },
    {
     "name": "stdout",
     "output_type": "stream",
     "text": [
      "root\n",
      " |-- BibNumber: integer (nullable = true)\n",
      " |-- CheckoutDateTime: date (nullable = true)"
     ]
    }
   ],
   "source": [
    "checkouts_df = sqlcontext.read.parquet('s3://intersession-distcomp/Checkouts')\n",
    "checkouts_df.printSchema()"
   ]
  },
  {
   "cell_type": "code",
   "execution_count": 5,
   "metadata": {},
   "outputs": [
    {
     "data": {
      "application/vnd.jupyter.widget-view+json": {
       "model_id": "8127f92f4f7c4eb3883db2b4dcd562ed",
       "version_major": 2,
       "version_minor": 0
      },
      "text/plain": [
       "VBox()"
      ]
     },
     "metadata": {},
     "output_type": "display_data"
    },
    {
     "data": {
      "application/vnd.jupyter.widget-view+json": {
       "model_id": "",
       "version_major": 2,
       "version_minor": 0
      },
      "text/plain": [
       "FloatProgress(value=0.0, bar_style='info', description='Progress:', layout=Layout(height='25px', width='50%'),…"
      ]
     },
     "metadata": {},
     "output_type": "display_data"
    },
    {
     "name": "stdout",
     "output_type": "stream",
     "text": [
      "+-------+---------------+--------------------+--------------------+--------+--------------+------------+---------+----------+\n",
      "| BibNum|PublicationYear|              Author|           Publisher|ItemType|ItemCollection|ItemLocation|ItemCount|ReportDate|\n",
      "+-------+---------------+--------------------+--------------------+--------+--------------+------------+---------+----------+\n",
      "|3068628|           2015|                null|            Dey St.,|    acbk|          canf|         cen|        1|2019-02-01|\n",
      "|3118549|           2015|Wilco (Musical gr...| DBPM Records/Anti-,|    accd|          nacd|         nga|        3|2019-02-01|\n",
      "|3162819|           2016| Bosch, Pseudonymous|Blackstone Audio ...|    jccd|        ncbocd|         wal|        1|2019-02-01|\n",
      "|1924473|           1999|   Geeslin, Campbell|Atheneum Books fo...|    jcbk|         ccpic|         cen|        1|2019-02-01|\n",
      "|1815199|           1996|United States. Na...|National Transpor...|    acbk|          canf|         cen|        2|2019-02-01|\n",
      "|3220844|           2016|                null|   Jeter Publishing,|    acbk|          nanf|         bal|        1|2019-02-01|\n",
      "|2488655|           2008|                null|  Warner Home Video,|   jcdvd|         ncdvd|         dth|        1|2019-02-01|\n",
      "|2930309|           2008|     Gabaldon, Diana|     Recorded Books,|    accd|        nabocd|         dth|        1|2019-02-01|\n",
      "|3404012|           2018|          Gach, Gary|        Sounds True,|    acbk|          nanf|         mgm|        1|2019-02-01|\n",
      "|2870801|           2013|         Hobb, Robin| Subterranean Press,|    acbk|          nasf|         hip|        1|2019-02-01|\n",
      "+-------+---------------+--------------------+--------------------+--------+--------------+------------+---------+----------+\n",
      "only showing top 10 rows"
     ]
    }
   ],
   "source": [
    "inventory_df.show(10)"
   ]
  },
  {
   "cell_type": "code",
   "execution_count": 6,
   "metadata": {},
   "outputs": [
    {
     "data": {
      "application/vnd.jupyter.widget-view+json": {
       "model_id": "70f2aa23086047ec950270441ffa76af",
       "version_major": 2,
       "version_minor": 0
      },
      "text/plain": [
       "VBox()"
      ]
     },
     "metadata": {},
     "output_type": "display_data"
    },
    {
     "data": {
      "application/vnd.jupyter.widget-view+json": {
       "model_id": "",
       "version_major": 2,
       "version_minor": 0
      },
      "text/plain": [
       "FloatProgress(value=0.0, bar_style='info', description='Progress:', layout=Layout(height='25px', width='50%'),…"
      ]
     },
     "metadata": {},
     "output_type": "display_data"
    },
    {
     "name": "stdout",
     "output_type": "stream",
     "text": [
      "+---------+----------------+\n",
      "|BibNumber|CheckoutDateTime|\n",
      "+---------+----------------+\n",
      "|  3027450|      2015-05-27|\n",
      "|  2969577|      2015-04-18|\n",
      "|  2932682|      2014-07-25|\n",
      "|  2730431|      2014-08-25|\n",
      "|  2567182|      2015-07-13|\n",
      "|  2721456|      2015-06-15|\n",
      "|  2802494|      2015-06-14|\n",
      "|  2947048|      2014-11-13|\n",
      "|  2954535|      2014-11-24|\n",
      "|  3010547|      2015-03-13|\n",
      "+---------+----------------+\n",
      "only showing top 10 rows"
     ]
    }
   ],
   "source": [
    "checkouts_df.show(10)"
   ]
  },
  {
   "cell_type": "markdown",
   "metadata": {},
   "source": [
    "### To get the Train and Test datasets, we need to subset Inventory as it is incrementally updated for books every month. Since we have checkout data till December 2019, we will subset our train dataset from November Inventory data and train dataset from December Inventory Data."
   ]
  },
  {
   "cell_type": "code",
   "execution_count": 8,
   "metadata": {},
   "outputs": [
    {
     "data": {
      "application/vnd.jupyter.widget-view+json": {
       "model_id": "3dc4af3955f043e99e94e4ee219e887a",
       "version_major": 2,
       "version_minor": 0
      },
      "text/plain": [
       "VBox()"
      ]
     },
     "metadata": {},
     "output_type": "display_data"
    },
    {
     "data": {
      "application/vnd.jupyter.widget-view+json": {
       "model_id": "",
       "version_major": 2,
       "version_minor": 0
      },
      "text/plain": [
       "FloatProgress(value=0.0, bar_style='info', description='Progress:', layout=Layout(height='25px', width='50%'),…"
      ]
     },
     "metadata": {},
     "output_type": "display_data"
    }
   ],
   "source": [
    "subset = inventory_df.filter(inventory_df['ReportDate'] <= '2019-11-01').groupby('BibNum').agg(max_(\"ReportDate\"))\n",
    "subset = subset.cache()"
   ]
  },
  {
   "cell_type": "code",
   "execution_count": 9,
   "metadata": {},
   "outputs": [
    {
     "data": {
      "application/vnd.jupyter.widget-view+json": {
       "model_id": "ff731e6011024a90ae10e1d0401e05e3",
       "version_major": 2,
       "version_minor": 0
      },
      "text/plain": [
       "VBox()"
      ]
     },
     "metadata": {},
     "output_type": "display_data"
    },
    {
     "data": {
      "application/vnd.jupyter.widget-view+json": {
       "model_id": "",
       "version_major": 2,
       "version_minor": 0
      },
      "text/plain": [
       "FloatProgress(value=0.0, bar_style='info', description='Progress:', layout=Layout(height='25px', width='50%'),…"
      ]
     },
     "metadata": {},
     "output_type": "display_data"
    }
   ],
   "source": [
    "subset_test = inventory_df.filter(inventory_df['ReportDate'] <= '2019-12-01').groupby('BibNum').agg(max_(\"ReportDate\"))\n",
    "subset_test = subset_test.cache()"
   ]
  },
  {
   "cell_type": "code",
   "execution_count": 10,
   "metadata": {},
   "outputs": [
    {
     "data": {
      "application/vnd.jupyter.widget-view+json": {
       "model_id": "4a9400b3c7434dbe916ba944979562e7",
       "version_major": 2,
       "version_minor": 0
      },
      "text/plain": [
       "VBox()"
      ]
     },
     "metadata": {},
     "output_type": "display_data"
    },
    {
     "data": {
      "application/vnd.jupyter.widget-view+json": {
       "model_id": "",
       "version_major": 2,
       "version_minor": 0
      },
      "text/plain": [
       "FloatProgress(value=0.0, bar_style='info', description='Progress:', layout=Layout(height='25px', width='50%'),…"
      ]
     },
     "metadata": {},
     "output_type": "display_data"
    },
    {
     "name": "stdout",
     "output_type": "stream",
     "text": [
      "785267 787918"
     ]
    }
   ],
   "source": [
    "print(subset.count(), subset_test.count()) ### 785267, 787918"
   ]
  },
  {
   "cell_type": "code",
   "execution_count": 144,
   "metadata": {},
   "outputs": [
    {
     "data": {
      "application/vnd.jupyter.widget-view+json": {
       "model_id": "8495e9e4093d4133af1aee04292ebab5",
       "version_major": 2,
       "version_minor": 0
      },
      "text/plain": [
       "VBox()"
      ]
     },
     "metadata": {},
     "output_type": "display_data"
    },
    {
     "data": {
      "application/vnd.jupyter.widget-view+json": {
       "model_id": "",
       "version_major": 2,
       "version_minor": 0
      },
      "text/plain": [
       "FloatProgress(value=0.0, bar_style='info', description='Progress:', layout=Layout(height='25px', width='50%'),…"
      ]
     },
     "metadata": {},
     "output_type": "display_data"
    }
   ],
   "source": [
    "df_train = inventory_df.join(subset.withColumnRenamed('max(ReportDate)','ReportDate'), on=['BibNum','ReportDate'], how='inner')\n",
    "df_test = inventory_df.join(subset_test.withColumnRenamed('max(ReportDate)','ReportDate'), on=['BibNum','ReportDate'], how='inner')"
   ]
  },
  {
   "cell_type": "code",
   "execution_count": 145,
   "metadata": {},
   "outputs": [
    {
     "data": {
      "application/vnd.jupyter.widget-view+json": {
       "model_id": "07e98e20ee63469c826956af217886e9",
       "version_major": 2,
       "version_minor": 0
      },
      "text/plain": [
       "VBox()"
      ]
     },
     "metadata": {},
     "output_type": "display_data"
    },
    {
     "data": {
      "application/vnd.jupyter.widget-view+json": {
       "model_id": "",
       "version_major": 2,
       "version_minor": 0
      },
      "text/plain": [
       "FloatProgress(value=0.0, bar_style='info', description='Progress:', layout=Layout(height='25px', width='50%'),…"
      ]
     },
     "metadata": {},
     "output_type": "display_data"
    }
   ],
   "source": [
    "df_train = df_train.cache()\n",
    "df_test = df_test.cache()"
   ]
  },
  {
   "cell_type": "code",
   "execution_count": 146,
   "metadata": {},
   "outputs": [
    {
     "data": {
      "application/vnd.jupyter.widget-view+json": {
       "model_id": "9526305822484d9f8d85622ecf4e1f03",
       "version_major": 2,
       "version_minor": 0
      },
      "text/plain": [
       "VBox()"
      ]
     },
     "metadata": {},
     "output_type": "display_data"
    },
    {
     "data": {
      "application/vnd.jupyter.widget-view+json": {
       "model_id": "",
       "version_major": 2,
       "version_minor": 0
      },
      "text/plain": [
       "FloatProgress(value=0.0, bar_style='info', description='Progress:', layout=Layout(height='25px', width='50%'),…"
      ]
     },
     "metadata": {},
     "output_type": "display_data"
    },
    {
     "name": "stdout",
     "output_type": "stream",
     "text": [
      "1549043\n",
      "1551509"
     ]
    }
   ],
   "source": [
    "print(df_train.count()) ###  1549043\n",
    "print(df_test.count()) ###  1551509"
   ]
  },
  {
   "cell_type": "code",
   "execution_count": 147,
   "metadata": {},
   "outputs": [
    {
     "data": {
      "application/vnd.jupyter.widget-view+json": {
       "model_id": "c2962d2fbd304d2588c500732c186bb3",
       "version_major": 2,
       "version_minor": 0
      },
      "text/plain": [
       "VBox()"
      ]
     },
     "metadata": {},
     "output_type": "display_data"
    },
    {
     "data": {
      "application/vnd.jupyter.widget-view+json": {
       "model_id": "",
       "version_major": 2,
       "version_minor": 0
      },
      "text/plain": [
       "FloatProgress(value=0.0, bar_style='info', description='Progress:', layout=Layout(height='25px', width='50%'),…"
      ]
     },
     "metadata": {},
     "output_type": "display_data"
    }
   ],
   "source": [
    "df_train = df_train.drop('Title','ISBN','Subjects')\n",
    "df_test = df_test.drop('Title','ISBN','Subjects')"
   ]
  },
  {
   "cell_type": "code",
   "execution_count": 148,
   "metadata": {},
   "outputs": [
    {
     "data": {
      "application/vnd.jupyter.widget-view+json": {
       "model_id": "7bf807ecdf9a4c2baff89be68aac7c7c",
       "version_major": 2,
       "version_minor": 0
      },
      "text/plain": [
       "VBox()"
      ]
     },
     "metadata": {},
     "output_type": "display_data"
    },
    {
     "data": {
      "application/vnd.jupyter.widget-view+json": {
       "model_id": "",
       "version_major": 2,
       "version_minor": 0
      },
      "text/plain": [
       "FloatProgress(value=0.0, bar_style='info', description='Progress:', layout=Layout(height='25px', width='50%'),…"
      ]
     },
     "metadata": {},
     "output_type": "display_data"
    },
    {
     "name": "stdout",
     "output_type": "stream",
     "text": [
      "root\n",
      " |-- BibNum: integer (nullable = true)\n",
      " |-- ReportDate: date (nullable = true)\n",
      " |-- PublicationYear: integer (nullable = true)\n",
      " |-- Author: string (nullable = true)\n",
      " |-- Publisher: string (nullable = true)\n",
      " |-- ItemType: string (nullable = true)\n",
      " |-- ItemCollection: string (nullable = true)\n",
      " |-- ItemLocation: string (nullable = true)\n",
      " |-- ItemCount: integer (nullable = true)"
     ]
    }
   ],
   "source": [
    "df_train.printSchema()"
   ]
  },
  {
   "cell_type": "code",
   "execution_count": 149,
   "metadata": {},
   "outputs": [
    {
     "data": {
      "application/vnd.jupyter.widget-view+json": {
       "model_id": "cdb348ea788f440b8bdda2139f03f8f6",
       "version_major": 2,
       "version_minor": 0
      },
      "text/plain": [
       "VBox()"
      ]
     },
     "metadata": {},
     "output_type": "display_data"
    },
    {
     "data": {
      "application/vnd.jupyter.widget-view+json": {
       "model_id": "",
       "version_major": 2,
       "version_minor": 0
      },
      "text/plain": [
       "FloatProgress(value=0.0, bar_style='info', description='Progress:', layout=Layout(height='25px', width='50%'),…"
      ]
     },
     "metadata": {},
     "output_type": "display_data"
    },
    {
     "name": "stdout",
     "output_type": "stream",
     "text": [
      "+-------+----------+---------------+--------------------+--------------------+--------+--------------+------------+---------+\n",
      "| BibNum|ReportDate|PublicationYear|              Author|           Publisher|ItemType|ItemCollection|ItemLocation|ItemCount|\n",
      "+-------+----------+---------------+--------------------+--------------------+--------+--------------+------------+---------+\n",
      "|2676669|2019-02-01|           2010|Stanton, Steve, 1...|          ECW Press,|    acbk|         nanew|         dth|        1|\n",
      "|2944868|2019-02-01|           2006|       Edgers, Geoff|   Grosset & Dunlap,|    jcbk|          ncnf|         net|        1|\n",
      "| 379359|2019-02-01|           1984|Vishnevska︠i︡a, G...|Harcourt Brace Jo...|    acbk|          canf|         cen|        1|\n",
      "|2243510|2019-02-01|           2004|McKissack, Pat, 1...|         Scholastic,|    jcbk|         ccser|         cen|        1|\n",
      "| 331198|2019-02-01|           1963|Trenker, Luis, 18...|       Fackelverlag,|    acbk|          caln|         cen|        1|\n",
      "+-------+----------+---------------+--------------------+--------------------+--------+--------------+------------+---------+\n",
      "only showing top 5 rows"
     ]
    }
   ],
   "source": [
    "df_train.show(5)"
   ]
  },
  {
   "cell_type": "code",
   "execution_count": 150,
   "metadata": {},
   "outputs": [
    {
     "data": {
      "application/vnd.jupyter.widget-view+json": {
       "model_id": "a5a449faae9a4f0892876be0252a63f8",
       "version_major": 2,
       "version_minor": 0
      },
      "text/plain": [
       "VBox()"
      ]
     },
     "metadata": {},
     "output_type": "display_data"
    },
    {
     "data": {
      "application/vnd.jupyter.widget-view+json": {
       "model_id": "",
       "version_major": 2,
       "version_minor": 0
      },
      "text/plain": [
       "FloatProgress(value=0.0, bar_style='info', description='Progress:', layout=Layout(height='25px', width='50%'),…"
      ]
     },
     "metadata": {},
     "output_type": "display_data"
    },
    {
     "name": "stdout",
     "output_type": "stream",
     "text": [
      "+-------+----------+---------------+--------------------+--------------------+--------+--------------+------------+---------+\n",
      "| BibNum|ReportDate|PublicationYear|              Author|           Publisher|ItemType|ItemCollection|ItemLocation|ItemCount|\n",
      "+-------+----------+---------------+--------------------+--------------------+--------+--------------+------------+---------+\n",
      "|2676669|2019-02-01|           2010|Stanton, Steve, 1...|          ECW Press,|    acbk|         nanew|         dth|        1|\n",
      "|2944868|2019-02-01|           2006|       Edgers, Geoff|   Grosset & Dunlap,|    jcbk|          ncnf|         net|        1|\n",
      "| 379359|2019-02-01|           1984|Vishnevska︠i︡a, G...|Harcourt Brace Jo...|    acbk|          canf|         cen|        1|\n",
      "|2243510|2019-02-01|           2004|McKissack, Pat, 1...|         Scholastic,|    jcbk|         ccser|         cen|        1|\n",
      "| 331198|2019-02-01|           1963|Trenker, Luis, 18...|       Fackelverlag,|    acbk|          caln|         cen|        1|\n",
      "+-------+----------+---------------+--------------------+--------------------+--------+--------------+------------+---------+\n",
      "only showing top 5 rows"
     ]
    }
   ],
   "source": [
    "df_test.show(5)"
   ]
  },
  {
   "cell_type": "markdown",
   "metadata": {},
   "source": [
    "### Also the books are not unique at BibNum level, hence we need to aggreagate the rest of the cateogorical variables"
   ]
  },
  {
   "cell_type": "code",
   "execution_count": 151,
   "metadata": {},
   "outputs": [
    {
     "data": {
      "application/vnd.jupyter.widget-view+json": {
       "model_id": "ff665724469848c98cb84efae3682b6c",
       "version_major": 2,
       "version_minor": 0
      },
      "text/plain": [
       "VBox()"
      ]
     },
     "metadata": {},
     "output_type": "display_data"
    },
    {
     "data": {
      "application/vnd.jupyter.widget-view+json": {
       "model_id": "",
       "version_major": 2,
       "version_minor": 0
      },
      "text/plain": [
       "FloatProgress(value=0.0, bar_style='info', description='Progress:', layout=Layout(height='25px', width='50%'),…"
      ]
     },
     "metadata": {},
     "output_type": "display_data"
    }
   ],
   "source": [
    "df_train = df_train.groupBy('BibNum').agg({'ReportDate':'max', 'Author':'max', 'PublicationYear':'max', 'Publisher':'max', \n",
    "                               'ItemType':'max', 'ItemCollection':'max', 'ItemCount':'sum', 'ItemLocation':'max'})\n",
    "df_test = df_test.groupBy('BibNum').agg({'ReportDate':'max', 'Author':'max', 'PublicationYear':'max', 'Publisher':'max', \n",
    "                               'ItemType':'max', 'ItemCollection':'max', 'ItemCount':'sum', 'ItemLocation':'max'})"
   ]
  },
  {
   "cell_type": "code",
   "execution_count": 153,
   "metadata": {},
   "outputs": [
    {
     "data": {
      "application/vnd.jupyter.widget-view+json": {
       "model_id": "78e1a1e00dc6485d9643a646a742ae5f",
       "version_major": 2,
       "version_minor": 0
      },
      "text/plain": [
       "VBox()"
      ]
     },
     "metadata": {},
     "output_type": "display_data"
    },
    {
     "data": {
      "application/vnd.jupyter.widget-view+json": {
       "model_id": "",
       "version_major": 2,
       "version_minor": 0
      },
      "text/plain": [
       "FloatProgress(value=0.0, bar_style='info', description='Progress:', layout=Layout(height='25px', width='50%'),…"
      ]
     },
     "metadata": {},
     "output_type": "display_data"
    }
   ],
   "source": [
    "df_train = df_train.select(col(\"BibNum\"), col(\"max(ReportDate)\").alias(\"ReportDate\"), col(\"sum(ItemCount)\").alias(\"ItemCount\"), \n",
    "               col(\"max(ItemCollection)\").alias(\"ItemCollection\"), col(\"max(PublicationYear)\").alias(\"PublicationYear\"),\n",
    "               col(\"max(Author)\").alias(\"Author\"), col(\"max(ItemType)\").alias(\"ItemType\"), col(\"max(Publisher)\").alias(\"Publisher\")\n",
    "                          , col('max(ItemLocation)').alias('ItemLocation'))"
   ]
  },
  {
   "cell_type": "code",
   "execution_count": 154,
   "metadata": {},
   "outputs": [
    {
     "data": {
      "application/vnd.jupyter.widget-view+json": {
       "model_id": "4a0f0d7464844bf19f0281b17b7b2214",
       "version_major": 2,
       "version_minor": 0
      },
      "text/plain": [
       "VBox()"
      ]
     },
     "metadata": {},
     "output_type": "display_data"
    },
    {
     "data": {
      "application/vnd.jupyter.widget-view+json": {
       "model_id": "",
       "version_major": 2,
       "version_minor": 0
      },
      "text/plain": [
       "FloatProgress(value=0.0, bar_style='info', description='Progress:', layout=Layout(height='25px', width='50%'),…"
      ]
     },
     "metadata": {},
     "output_type": "display_data"
    }
   ],
   "source": [
    "df_test = df_test.select(col(\"BibNum\"), col(\"max(ReportDate)\").alias(\"ReportDate\"), col(\"sum(ItemCount)\").alias(\"ItemCount\"), \n",
    "               col(\"max(ItemCollection)\").alias(\"ItemCollection\"), col(\"max(PublicationYear)\").alias(\"PublicationYear\"),\n",
    "               col(\"max(Author)\").alias(\"Author\"), col(\"max(ItemType)\").alias(\"ItemType\"), col(\"max(Publisher)\").alias(\"Publisher\")\n",
    "                        , col('max(ItemLocation)').alias('ItemLocation'))"
   ]
  },
  {
   "cell_type": "code",
   "execution_count": 155,
   "metadata": {},
   "outputs": [
    {
     "data": {
      "application/vnd.jupyter.widget-view+json": {
       "model_id": "199fcb0fdee1416cb6cea6bed6e2f52a",
       "version_major": 2,
       "version_minor": 0
      },
      "text/plain": [
       "VBox()"
      ]
     },
     "metadata": {},
     "output_type": "display_data"
    },
    {
     "data": {
      "application/vnd.jupyter.widget-view+json": {
       "model_id": "",
       "version_major": 2,
       "version_minor": 0
      },
      "text/plain": [
       "FloatProgress(value=0.0, bar_style='info', description='Progress:', layout=Layout(height='25px', width='50%'),…"
      ]
     },
     "metadata": {},
     "output_type": "display_data"
    },
    {
     "name": "stdout",
     "output_type": "stream",
     "text": [
      "+------+----------+---------+--------------+---------------+--------------------+--------+--------------------+------------+\n",
      "|BibNum|ReportDate|ItemCount|ItemCollection|PublicationYear|              Author|ItemType|           Publisher|ItemLocation|\n",
      "+------+----------+---------+--------------+---------------+--------------------+--------+--------------------+------------+\n",
      "|  1238|2019-11-01|        1|          cs7r|           1967|Simon, André Loui...|    arbk|        McGraw-Hill,|         cen|\n",
      "|  1342|2019-11-01|        1|          cs7r|           1967|Great Britain. Co...|    arbk|           H.M.S.O.,|         cen|\n",
      "|  1580|2019-11-01|        1|         casea|           1968|Sissons, John How...|    arbk|McClelland and St...|         cen|\n",
      "|  1591|2019-11-01|        1|          canf|           1965|Smith, George Was...|    acbk|[publisher not id...|         cen|\n",
      "|  2866|2018-08-01|        1|          canf|           1969|Thomason, John W....|    acbk|University of Tex...|         cen|\n",
      "|  4101|2019-11-01|        2|           cs6|           1969|    Werstein, Irving|    acbk|    Delacorte Press,|         cen|\n",
      "|  5156|2019-11-01|        1|          canf|           1969|Rainwater, Doroth...|    acbk|          T. Nelson,|         cen|\n",
      "|  5300|2019-11-01|        1|          canf|           1970|Davidson, Basil, ...|    acbk|      Little, Brown,|         cen|\n",
      "|  6397|2019-11-01|        1|           cab|           1970|Bethge, Eberhard,...|    acbk|       Harper & Row,|         cen|\n",
      "|  6466|2019-11-01|        1|          cs7r|           1971|Baker, Charles La...|    arbk|Geological Societ...|         cen|\n",
      "+------+----------+---------+--------------+---------------+--------------------+--------+--------------------+------------+\n",
      "only showing top 10 rows"
     ]
    }
   ],
   "source": [
    "df_train.show(10)"
   ]
  },
  {
   "cell_type": "markdown",
   "metadata": {},
   "source": [
    "## Feature Engineering"
   ]
  },
  {
   "cell_type": "markdown",
   "metadata": {},
   "source": [
    "### 1. PublicationYear - fill na's with mean"
   ]
  },
  {
   "cell_type": "code",
   "execution_count": 157,
   "metadata": {},
   "outputs": [
    {
     "data": {
      "application/vnd.jupyter.widget-view+json": {
       "model_id": "f1f26eff0ab54759a20e4f3a32a69894",
       "version_major": 2,
       "version_minor": 0
      },
      "text/plain": [
       "VBox()"
      ]
     },
     "metadata": {},
     "output_type": "display_data"
    },
    {
     "data": {
      "application/vnd.jupyter.widget-view+json": {
       "model_id": "",
       "version_major": 2,
       "version_minor": 0
      },
      "text/plain": [
       "FloatProgress(value=0.0, bar_style='info', description='Progress:', layout=Layout(height='25px', width='50%'),…"
      ]
     },
     "metadata": {},
     "output_type": "display_data"
    }
   ],
   "source": [
    "from pyspark.sql.functions import mean\n",
    "mean_year = int(df_train.select([mean('PublicationYear')]).first()[0])\n",
    "df_train = df_train.fillna(mean_year, subset=['PublicationYear'])"
   ]
  },
  {
   "cell_type": "code",
   "execution_count": 158,
   "metadata": {
    "scrolled": true
   },
   "outputs": [
    {
     "data": {
      "application/vnd.jupyter.widget-view+json": {
       "model_id": "a95fd754926847e49d67a276194319fc",
       "version_major": 2,
       "version_minor": 0
      },
      "text/plain": [
       "VBox()"
      ]
     },
     "metadata": {},
     "output_type": "display_data"
    },
    {
     "data": {
      "application/vnd.jupyter.widget-view+json": {
       "model_id": "",
       "version_major": 2,
       "version_minor": 0
      },
      "text/plain": [
       "FloatProgress(value=0.0, bar_style='info', description='Progress:', layout=Layout(height='25px', width='50%'),…"
      ]
     },
     "metadata": {},
     "output_type": "display_data"
    },
    {
     "name": "stdout",
     "output_type": "stream",
     "text": [
      "+---------------+-----+\n",
      "|PublicationYear|count|\n",
      "+---------------+-----+\n",
      "|           1993|49222|\n",
      "|           2015|28464|\n",
      "|           2016|28312|\n",
      "|           2013|28247|\n",
      "|           2014|27702|\n",
      "|           2017|27519|\n",
      "|           2012|27130|\n",
      "|           2010|26908|\n",
      "|           2018|25576|\n",
      "|           2011|25565|\n",
      "|           2009|24627|\n",
      "|           2008|23556|\n",
      "|           2007|19032|\n",
      "|           2019|17718|\n",
      "|           2006|16593|\n",
      "|           2005|14626|\n",
      "|           2004|14140|\n",
      "|           2002|13935|\n",
      "|           2003|13860|\n",
      "|           2000|13450|\n",
      "|           2001|13077|\n",
      "|           1999|12904|\n",
      "|           1998|12186|\n",
      "|           1997|10928|\n",
      "|           1996| 9959|\n",
      "|           1995| 9860|\n",
      "|           1994| 9617|\n",
      "|           1992| 8707|\n",
      "|           1990| 8047|\n",
      "|           1991| 7774|\n",
      "|           1989| 7447|\n",
      "|           1988| 5757|\n",
      "|           1987| 5506|\n",
      "|           1986| 4967|\n",
      "|           1969| 4942|\n",
      "|           1968| 4689|\n",
      "|           1985| 4678|\n",
      "|           1976| 4606|\n",
      "|           1984| 4358|\n",
      "|           1967| 4308|\n",
      "|           1981| 4259|\n",
      "|           1977| 4255|\n",
      "|           1972| 4148|\n",
      "|           1983| 4133|\n",
      "|           1966| 4105|\n",
      "|           1970| 4085|\n",
      "|           1971| 4084|\n",
      "|           1975| 4076|\n",
      "|           1982| 4063|\n",
      "|           1980| 4027|\n",
      "|           1978| 4002|\n",
      "|           1973| 3969|\n",
      "|           1974| 3955|\n",
      "|           1979| 3944|\n",
      "|           1965| 3862|\n",
      "|           1962| 3422|\n",
      "|           1964| 3369|\n",
      "|           1963| 3363|\n",
      "|           1961| 3122|\n",
      "|           1960| 2814|\n",
      "|           1959| 2765|\n",
      "|           1957| 2663|\n",
      "|           1958| 2638|\n",
      "|           1956| 2583|\n",
      "|           1955| 2562|\n",
      "|           1954| 2414|\n",
      "|           1947| 2324|\n",
      "|           1953| 2275|\n",
      "|           1937| 2261|\n",
      "|           1950| 2108|\n",
      "|           1949| 2072|\n",
      "|           1939| 2049|\n",
      "|           1948| 2015|\n",
      "|           1946| 1998|\n",
      "|           1945| 1969|\n",
      "|           1952| 1948|\n",
      "|           1951| 1938|\n",
      "|           1943| 1934|\n",
      "|           1940| 1868|\n",
      "|           1941| 1857|\n",
      "|           1942| 1850|\n",
      "|           1935| 1850|\n",
      "|           1944| 1769|\n",
      "|           1938| 1692|\n",
      "|           1936| 1671|\n",
      "|           1929| 1300|\n",
      "|           1930| 1286|\n",
      "|           1928| 1152|\n",
      "|           1931| 1148|\n",
      "|           1927| 1140|\n",
      "|           1932|  988|\n",
      "|           1926|  967|\n",
      "|           1925|  965|\n",
      "|           1934|  923|\n",
      "|           1920|  895|\n",
      "|           1933|  872|\n",
      "|           1924|  841|\n",
      "|           1912|  808|\n",
      "|           1911|  792|\n",
      "|           1914|  792|\n",
      "+---------------+-----+\n",
      "only showing top 100 rows"
     ]
    }
   ],
   "source": [
    "df_train.groupBy('PublicationYear').count().sort('count', ascending=False).show(100)"
   ]
  },
  {
   "cell_type": "code",
   "execution_count": 159,
   "metadata": {},
   "outputs": [
    {
     "data": {
      "application/vnd.jupyter.widget-view+json": {
       "model_id": "8f91d1a1f9ce4fabb65de52d0ea4280c",
       "version_major": 2,
       "version_minor": 0
      },
      "text/plain": [
       "VBox()"
      ]
     },
     "metadata": {},
     "output_type": "display_data"
    },
    {
     "data": {
      "application/vnd.jupyter.widget-view+json": {
       "model_id": "",
       "version_major": 2,
       "version_minor": 0
      },
      "text/plain": [
       "FloatProgress(value=0.0, bar_style='info', description='Progress:', layout=Layout(height='25px', width='50%'),…"
      ]
     },
     "metadata": {},
     "output_type": "display_data"
    }
   ],
   "source": [
    "df_test = df_test.fillna(mean_year, subset=['PublicationYear'])"
   ]
  },
  {
   "cell_type": "code",
   "execution_count": 160,
   "metadata": {},
   "outputs": [
    {
     "data": {
      "application/vnd.jupyter.widget-view+json": {
       "model_id": "76fa683695a44769b85eb6578569d9bb",
       "version_major": 2,
       "version_minor": 0
      },
      "text/plain": [
       "VBox()"
      ]
     },
     "metadata": {},
     "output_type": "display_data"
    },
    {
     "data": {
      "application/vnd.jupyter.widget-view+json": {
       "model_id": "",
       "version_major": 2,
       "version_minor": 0
      },
      "text/plain": [
       "FloatProgress(value=0.0, bar_style='info', description='Progress:', layout=Layout(height='25px', width='50%'),…"
      ]
     },
     "metadata": {},
     "output_type": "display_data"
    },
    {
     "name": "stdout",
     "output_type": "stream",
     "text": [
      "+---------------+-----+\n",
      "|PublicationYear|count|\n",
      "+---------------+-----+\n",
      "|           1993|49244|\n",
      "|           2015|28488|\n",
      "|           2016|28346|\n",
      "|           2013|28271|\n",
      "|           2014|27726|\n",
      "|           2017|27583|\n",
      "|           2012|27152|\n",
      "|           2010|26928|\n",
      "|           2018|25706|\n",
      "|           2011|25581|\n",
      "|           2009|24640|\n",
      "|           2008|23575|\n",
      "|           2019|19645|\n",
      "|           2007|19045|\n",
      "|           2006|16598|\n",
      "|           2005|14646|\n",
      "|           2004|14154|\n",
      "|           2002|13945|\n",
      "|           2003|13871|\n",
      "|           2000|13461|\n",
      "|           2001|13084|\n",
      "|           1999|12909|\n",
      "|           1998|12191|\n",
      "|           1997|10936|\n",
      "|           1996| 9962|\n",
      "|           1995| 9867|\n",
      "|           1994| 9622|\n",
      "|           1992| 8707|\n",
      "|           1990| 8050|\n",
      "|           1991| 7781|\n",
      "|           1989| 7452|\n",
      "|           1988| 5759|\n",
      "|           1987| 5509|\n",
      "|           1986| 4968|\n",
      "|           1969| 4942|\n",
      "|           1968| 4690|\n",
      "|           1985| 4681|\n",
      "|           1976| 4609|\n",
      "|           1984| 4362|\n",
      "|           1967| 4310|\n",
      "|           1981| 4262|\n",
      "|           1977| 4257|\n",
      "|           1972| 4150|\n",
      "|           1983| 4135|\n",
      "|           1966| 4105|\n",
      "|           1970| 4086|\n",
      "|           1971| 4085|\n",
      "|           1975| 4077|\n",
      "|           1982| 4065|\n",
      "|           1980| 4030|\n",
      "|           1978| 4005|\n",
      "|           1973| 3973|\n",
      "|           1974| 3958|\n",
      "|           1979| 3946|\n",
      "|           1965| 3862|\n",
      "|           1962| 3424|\n",
      "|           1964| 3370|\n",
      "|           1963| 3363|\n",
      "|           1961| 3123|\n",
      "|           1960| 2814|\n",
      "|           1959| 2766|\n",
      "|           1957| 2664|\n",
      "|           1958| 2639|\n",
      "|           1956| 2584|\n",
      "|           1955| 2564|\n",
      "|           1954| 2416|\n",
      "|           1947| 2326|\n",
      "|           1953| 2276|\n",
      "|           1937| 2261|\n",
      "|           1950| 2110|\n",
      "|           1949| 2072|\n",
      "|           1939| 2051|\n",
      "|           1948| 2015|\n",
      "|           1946| 2001|\n",
      "|           1945| 1969|\n",
      "|           1952| 1949|\n",
      "|           1951| 1939|\n",
      "|           1943| 1934|\n",
      "|           1940| 1869|\n",
      "|           1941| 1859|\n",
      "|           1935| 1852|\n",
      "|           1942| 1852|\n",
      "|           1944| 1769|\n",
      "|           1938| 1692|\n",
      "|           1936| 1672|\n",
      "|           1929| 1302|\n",
      "|           1930| 1288|\n",
      "|           1928| 1153|\n",
      "|           1931| 1151|\n",
      "|           1927| 1142|\n",
      "|           1932|  989|\n",
      "|           1926|  968|\n",
      "|           1925|  966|\n",
      "|           1934|  924|\n",
      "|           1920|  895|\n",
      "|           1933|  872|\n",
      "|           1924|  843|\n",
      "|           1912|  812|\n",
      "|           1911|  793|\n",
      "|           1914|  792|\n",
      "+---------------+-----+\n",
      "only showing top 100 rows"
     ]
    }
   ],
   "source": [
    "df_test.groupBy('PublicationYear').count().sort('count', ascending=False).show(100)"
   ]
  },
  {
   "cell_type": "markdown",
   "metadata": {},
   "source": [
    "### 2. Book counts for variable 'Author'"
   ]
  },
  {
   "cell_type": "code",
   "execution_count": 131,
   "metadata": {},
   "outputs": [
    {
     "data": {
      "application/vnd.jupyter.widget-view+json": {
       "model_id": "34873a44be83478cab509deb93654525",
       "version_major": 2,
       "version_minor": 0
      },
      "text/plain": [
       "VBox()"
      ]
     },
     "metadata": {},
     "output_type": "display_data"
    },
    {
     "data": {
      "application/vnd.jupyter.widget-view+json": {
       "model_id": "",
       "version_major": 2,
       "version_minor": 0
      },
      "text/plain": [
       "FloatProgress(value=0.0, bar_style='info', description='Progress:', layout=Layout(height='25px', width='50%'),…"
      ]
     },
     "metadata": {},
     "output_type": "display_data"
    },
    {
     "name": "stdout",
     "output_type": "stream",
     "text": [
      "785267"
     ]
    }
   ],
   "source": [
    "df_train.count()"
   ]
  },
  {
   "cell_type": "code",
   "execution_count": 161,
   "metadata": {},
   "outputs": [
    {
     "data": {
      "application/vnd.jupyter.widget-view+json": {
       "model_id": "bc57a2f882494fe7be68e8f8088ee8b4",
       "version_major": 2,
       "version_minor": 0
      },
      "text/plain": [
       "VBox()"
      ]
     },
     "metadata": {},
     "output_type": "display_data"
    },
    {
     "data": {
      "application/vnd.jupyter.widget-view+json": {
       "model_id": "",
       "version_major": 2,
       "version_minor": 0
      },
      "text/plain": [
       "FloatProgress(value=0.0, bar_style='info', description='Progress:', layout=Layout(height='25px', width='50%'),…"
      ]
     },
     "metadata": {},
     "output_type": "display_data"
    }
   ],
   "source": [
    "auth = df_train.groupBy('Author').count()\n",
    "df_train = df_train.join(auth,on='Author',how='left').drop('Author').withColumnRenamed('count','author_book_counts')"
   ]
  },
  {
   "cell_type": "code",
   "execution_count": 162,
   "metadata": {},
   "outputs": [
    {
     "data": {
      "application/vnd.jupyter.widget-view+json": {
       "model_id": "64cb6af164304857aa4525635722983a",
       "version_major": 2,
       "version_minor": 0
      },
      "text/plain": [
       "VBox()"
      ]
     },
     "metadata": {},
     "output_type": "display_data"
    },
    {
     "data": {
      "application/vnd.jupyter.widget-view+json": {
       "model_id": "",
       "version_major": 2,
       "version_minor": 0
      },
      "text/plain": [
       "FloatProgress(value=0.0, bar_style='info', description='Progress:', layout=Layout(height='25px', width='50%'),…"
      ]
     },
     "metadata": {},
     "output_type": "display_data"
    },
    {
     "name": "stdout",
     "output_type": "stream",
     "text": [
      "+-------+----------+---------+--------------+---------------+--------+--------------------+------------+------------------+\n",
      "| BibNum|ReportDate|ItemCount|ItemCollection|PublicationYear|ItemType|           Publisher|ItemLocation|author_book_counts|\n",
      "+-------+----------+---------+--------------+---------------+--------+--------------------+------------+------------------+\n",
      "|3123964|2019-11-01|        4|         nafic|           2016|    acbk|        Grove Press,|         glk|                 5|\n",
      "|2686764|2019-11-01|        1|         cafic|           2011|    acbk|        Grove Press,|         cen|                 5|\n",
      "|3409841|2019-11-01|        6|         nanew|           2019|    acbk|Black Cat, an imp...|         swt|                 5|\n",
      "|3204018|2019-11-01|        6|         nafic|           2005|    acbk|          Black Cat,|         net|                 5|\n",
      "|3204074|2019-11-01|        6|         nafic|           2006|    acbk|Black Cat ; Distr...|         swt|                 5|\n",
      "|2749241|2019-11-01|        3|          nanf|           2011|    acbk|      Penguin Group,|         gwd|                 1|\n",
      "| 214787|2019-11-01|        1|          cs7r|           1957|    arbk|       C.A. Pearson,|         cen|                 1|\n",
      "|1351160|2019-11-01|        1|          canf|           1994|    acbk|Roberts Rinehart ...|         cen|                 4|\n",
      "|2472450|2019-11-01|        1|          canf|           2007|    acbk|            Brandon,|         cen|                 4|\n",
      "|2215488|2019-11-01|        1|          canf|           2003|    acbk|       Random House,|         cen|                 4|\n",
      "+-------+----------+---------+--------------+---------------+--------+--------------------+------------+------------------+\n",
      "only showing top 10 rows"
     ]
    }
   ],
   "source": [
    "df_train.show(10)"
   ]
  },
  {
   "cell_type": "code",
   "execution_count": 163,
   "metadata": {},
   "outputs": [
    {
     "data": {
      "application/vnd.jupyter.widget-view+json": {
       "model_id": "fc9a00dd0f654ad39462cad3dc2282d4",
       "version_major": 2,
       "version_minor": 0
      },
      "text/plain": [
       "VBox()"
      ]
     },
     "metadata": {},
     "output_type": "display_data"
    },
    {
     "data": {
      "application/vnd.jupyter.widget-view+json": {
       "model_id": "",
       "version_major": 2,
       "version_minor": 0
      },
      "text/plain": [
       "FloatProgress(value=0.0, bar_style='info', description='Progress:', layout=Layout(height='25px', width='50%'),…"
      ]
     },
     "metadata": {},
     "output_type": "display_data"
    }
   ],
   "source": [
    "mean_book_cnts = int(df_train.select([mean('author_book_counts')]).first()[0])\n",
    "df_train = df_train.fillna(mean_book_cnts, subset=['author_book_counts'])"
   ]
  },
  {
   "cell_type": "code",
   "execution_count": 164,
   "metadata": {},
   "outputs": [
    {
     "data": {
      "application/vnd.jupyter.widget-view+json": {
       "model_id": "6fbc0116337a4826adc422eab09f7c27",
       "version_major": 2,
       "version_minor": 0
      },
      "text/plain": [
       "VBox()"
      ]
     },
     "metadata": {},
     "output_type": "display_data"
    },
    {
     "data": {
      "application/vnd.jupyter.widget-view+json": {
       "model_id": "",
       "version_major": 2,
       "version_minor": 0
      },
      "text/plain": [
       "FloatProgress(value=0.0, bar_style='info', description='Progress:', layout=Layout(height='25px', width='50%'),…"
      ]
     },
     "metadata": {},
     "output_type": "display_data"
    },
    {
     "name": "stdout",
     "output_type": "stream",
     "text": [
      "+------+----------+---------+--------------+---------------+--------+---------+------------+------------------+\n",
      "|BibNum|ReportDate|ItemCount|ItemCollection|PublicationYear|ItemType|Publisher|ItemLocation|author_book_counts|\n",
      "+------+----------+---------+--------------+---------------+--------+---------+------------+------------------+\n",
      "+------+----------+---------+--------------+---------------+--------+---------+------------+------------------+"
     ]
    }
   ],
   "source": [
    "df_train.where(df_train.author_book_counts.isNull()).show(10)"
   ]
  },
  {
   "cell_type": "code",
   "execution_count": 165,
   "metadata": {},
   "outputs": [
    {
     "data": {
      "application/vnd.jupyter.widget-view+json": {
       "model_id": "68c737e28a434c8483047028e68f82b5",
       "version_major": 2,
       "version_minor": 0
      },
      "text/plain": [
       "VBox()"
      ]
     },
     "metadata": {},
     "output_type": "display_data"
    },
    {
     "data": {
      "application/vnd.jupyter.widget-view+json": {
       "model_id": "",
       "version_major": 2,
       "version_minor": 0
      },
      "text/plain": [
       "FloatProgress(value=0.0, bar_style='info', description='Progress:', layout=Layout(height='25px', width='50%'),…"
      ]
     },
     "metadata": {},
     "output_type": "display_data"
    }
   ],
   "source": [
    "df_test = df_test.join(auth,on='Author',how='left').drop('Author').withColumnRenamed('count','author_book_counts')\n",
    "df_test = df_test.fillna(mean_book_cnts, subset=['author_book_counts'])"
   ]
  },
  {
   "cell_type": "code",
   "execution_count": 166,
   "metadata": {},
   "outputs": [
    {
     "data": {
      "application/vnd.jupyter.widget-view+json": {
       "model_id": "54f15797832a4f4a9553dd53ba973c89",
       "version_major": 2,
       "version_minor": 0
      },
      "text/plain": [
       "VBox()"
      ]
     },
     "metadata": {},
     "output_type": "display_data"
    },
    {
     "data": {
      "application/vnd.jupyter.widget-view+json": {
       "model_id": "",
       "version_major": 2,
       "version_minor": 0
      },
      "text/plain": [
       "FloatProgress(value=0.0, bar_style='info', description='Progress:', layout=Layout(height='25px', width='50%'),…"
      ]
     },
     "metadata": {},
     "output_type": "display_data"
    },
    {
     "name": "stdout",
     "output_type": "stream",
     "text": [
      "+------+----------+---------+--------------+---------------+--------+---------+------------+------------------+\n",
      "|BibNum|ReportDate|ItemCount|ItemCollection|PublicationYear|ItemType|Publisher|ItemLocation|author_book_counts|\n",
      "+------+----------+---------+--------------+---------------+--------+---------+------------+------------------+\n",
      "+------+----------+---------+--------------+---------------+--------+---------+------------+------------------+"
     ]
    }
   ],
   "source": [
    "df_test.where(df_test.author_book_counts.isNull()).show(10)"
   ]
  },
  {
   "cell_type": "markdown",
   "metadata": {},
   "source": [
    "### Publisher Count"
   ]
  },
  {
   "cell_type": "code",
   "execution_count": 168,
   "metadata": {
    "collapsed": true
   },
   "outputs": [
    {
     "data": {
      "application/vnd.jupyter.widget-view+json": {
       "model_id": "649376843d48484c97cbaa1865e23376",
       "version_major": 2,
       "version_minor": 0
      },
      "text/plain": [
       "VBox()"
      ]
     },
     "metadata": {},
     "output_type": "display_data"
    },
    {
     "data": {
      "application/vnd.jupyter.widget-view+json": {
       "model_id": "",
       "version_major": 2,
       "version_minor": 0
      },
      "text/plain": [
       "FloatProgress(value=0.0, bar_style='info', description='Progress:', layout=Layout(height='25px', width='50%'),…"
      ]
     },
     "metadata": {},
     "output_type": "display_data"
    },
    {
     "name": "stdout",
     "output_type": "stream",
     "text": [
      "+-------+----------+---------+--------------+---------------+--------+------------+------------------+---------------------+\n",
      "| BibNum|ReportDate|ItemCount|ItemCollection|PublicationYear|ItemType|ItemLocation|author_book_counts|publisher_book_counts|\n",
      "+-------+----------+---------+--------------+---------------+--------+------------+------------------+---------------------+\n",
      "|2733621|2019-11-01|        1|          canf|           2011|    acbk|         cen|                60|                    1|\n",
      "| 727488|2019-11-01|        1|         casea|           1977|    arbk|         cen|                60|                    1|\n",
      "| 746183|2019-11-01|        8|          cs9g|           1875|    arbk|         cen|                 1|                    1|\n",
      "| 742931|2019-11-01|        1|          cs6r|           1891|    arbk|         cen|                 1|                    1|\n",
      "| 385595|2019-11-01|        1|         caref|           1984|    arbk|         cen|                 1|                    1|\n",
      "| 451882|2019-11-01|        1|         caref|           1986|    arbk|         cen|                 3|                    3|\n",
      "| 764852|2019-11-01|        1|         cagbi|           1981|    arbk|         cen|                 3|                    3|\n",
      "| 574669|2019-11-01|        1|         caref|           1987|    arbk|         cen|                 3|                    3|\n",
      "| 336911|2019-11-01|       28|         caval|           1993|    arbk|         cen|               100|                    1|\n",
      "| 319970|2019-11-01|        1|          cs8r|           1904|    arbk|         cen|                12|                    1|\n",
      "+-------+----------+---------+--------------+---------------+--------+------------+------------------+---------------------+\n",
      "only showing top 10 rows"
     ]
    }
   ],
   "source": [
    "pub = df_train.groupBy('Publisher').count()\n",
    "df_train = df_train.join(pub,on='Publisher',how='left').drop('Publisher').withColumnRenamed('count','publisher_book_counts')\n",
    "df_train.show(10)"
   ]
  },
  {
   "cell_type": "code",
   "execution_count": 170,
   "metadata": {},
   "outputs": [
    {
     "data": {
      "application/vnd.jupyter.widget-view+json": {
       "model_id": "2106110141ef49bcba4b06e97ebb0b35",
       "version_major": 2,
       "version_minor": 0
      },
      "text/plain": [
       "VBox()"
      ]
     },
     "metadata": {},
     "output_type": "display_data"
    },
    {
     "data": {
      "application/vnd.jupyter.widget-view+json": {
       "model_id": "",
       "version_major": 2,
       "version_minor": 0
      },
      "text/plain": [
       "FloatProgress(value=0.0, bar_style='info', description='Progress:', layout=Layout(height='25px', width='50%'),…"
      ]
     },
     "metadata": {},
     "output_type": "display_data"
    }
   ],
   "source": [
    "mean_pub_book_cnts = int(df_train.select([mean('publisher_book_counts')]).first()[0])\n",
    "df_train = df_train.fillna(mean_pub_book_cnts, subset=['publisher_book_counts'])"
   ]
  },
  {
   "cell_type": "code",
   "execution_count": 171,
   "metadata": {},
   "outputs": [
    {
     "data": {
      "application/vnd.jupyter.widget-view+json": {
       "model_id": "3b22eed11d7d433cbafd7bdabd2da7e4",
       "version_major": 2,
       "version_minor": 0
      },
      "text/plain": [
       "VBox()"
      ]
     },
     "metadata": {},
     "output_type": "display_data"
    },
    {
     "data": {
      "application/vnd.jupyter.widget-view+json": {
       "model_id": "",
       "version_major": 2,
       "version_minor": 0
      },
      "text/plain": [
       "FloatProgress(value=0.0, bar_style='info', description='Progress:', layout=Layout(height='25px', width='50%'),…"
      ]
     },
     "metadata": {},
     "output_type": "display_data"
    },
    {
     "name": "stdout",
     "output_type": "stream",
     "text": [
      "+------+----------+---------+--------------+---------------+--------+------------+------------------+---------------------+\n",
      "|BibNum|ReportDate|ItemCount|ItemCollection|PublicationYear|ItemType|ItemLocation|author_book_counts|publisher_book_counts|\n",
      "+------+----------+---------+--------------+---------------+--------+------------+------------------+---------------------+\n",
      "+------+----------+---------+--------------+---------------+--------+------------+------------------+---------------------+"
     ]
    }
   ],
   "source": [
    "df_train.where(df_train.publisher_book_counts.isNull()).show(10)"
   ]
  },
  {
   "cell_type": "code",
   "execution_count": 172,
   "metadata": {},
   "outputs": [
    {
     "data": {
      "application/vnd.jupyter.widget-view+json": {
       "model_id": "220e2c00af0a4f1c888d11e70e720a70",
       "version_major": 2,
       "version_minor": 0
      },
      "text/plain": [
       "VBox()"
      ]
     },
     "metadata": {},
     "output_type": "display_data"
    },
    {
     "data": {
      "application/vnd.jupyter.widget-view+json": {
       "model_id": "",
       "version_major": 2,
       "version_minor": 0
      },
      "text/plain": [
       "FloatProgress(value=0.0, bar_style='info', description='Progress:', layout=Layout(height='25px', width='50%'),…"
      ]
     },
     "metadata": {},
     "output_type": "display_data"
    }
   ],
   "source": [
    "df_test = df_test.join(pub,on='Publisher',how='left').drop('Publisher').withColumnRenamed('count','publisher_book_counts')\n",
    "df_test = df_test.fillna(mean_pub_book_cnts, subset=['publisher_book_counts'])"
   ]
  },
  {
   "cell_type": "code",
   "execution_count": 173,
   "metadata": {},
   "outputs": [
    {
     "data": {
      "application/vnd.jupyter.widget-view+json": {
       "model_id": "aab09d5259664529a1d46488708137ed",
       "version_major": 2,
       "version_minor": 0
      },
      "text/plain": [
       "VBox()"
      ]
     },
     "metadata": {},
     "output_type": "display_data"
    },
    {
     "data": {
      "application/vnd.jupyter.widget-view+json": {
       "model_id": "",
       "version_major": 2,
       "version_minor": 0
      },
      "text/plain": [
       "FloatProgress(value=0.0, bar_style='info', description='Progress:', layout=Layout(height='25px', width='50%'),…"
      ]
     },
     "metadata": {},
     "output_type": "display_data"
    },
    {
     "name": "stdout",
     "output_type": "stream",
     "text": [
      "+------+----------+---------+--------------+---------------+--------+------------+------------------+---------------------+\n",
      "|BibNum|ReportDate|ItemCount|ItemCollection|PublicationYear|ItemType|ItemLocation|author_book_counts|publisher_book_counts|\n",
      "+------+----------+---------+--------------+---------------+--------+------------+------------------+---------------------+\n",
      "+------+----------+---------+--------------+---------------+--------+------------+------------------+---------------------+"
     ]
    }
   ],
   "source": [
    "df_train.where(df_train.publisher_book_counts.isNull()).show(10)"
   ]
  },
  {
   "cell_type": "code",
   "execution_count": 174,
   "metadata": {},
   "outputs": [
    {
     "data": {
      "application/vnd.jupyter.widget-view+json": {
       "model_id": "d548a59e54b9468a8baa6276d46915b9",
       "version_major": 2,
       "version_minor": 0
      },
      "text/plain": [
       "VBox()"
      ]
     },
     "metadata": {},
     "output_type": "display_data"
    },
    {
     "data": {
      "application/vnd.jupyter.widget-view+json": {
       "model_id": "",
       "version_major": 2,
       "version_minor": 0
      },
      "text/plain": [
       "FloatProgress(value=0.0, bar_style='info', description='Progress:', layout=Layout(height='25px', width='50%'),…"
      ]
     },
     "metadata": {},
     "output_type": "display_data"
    },
    {
     "name": "stdout",
     "output_type": "stream",
     "text": [
      "+-------+----------+---------+--------------+---------------+--------+------------+------------------+---------------------+\n",
      "| BibNum|ReportDate|ItemCount|ItemCollection|PublicationYear|ItemType|ItemLocation|author_book_counts|publisher_book_counts|\n",
      "+-------+----------+---------+--------------+---------------+--------+------------+------------------+---------------------+\n",
      "|2733621|2019-11-01|        1|          canf|           2011|    acbk|         cen|                60|                    1|\n",
      "| 727488|2019-11-01|        1|         casea|           1977|    arbk|         cen|                60|                    1|\n",
      "| 746183|2019-11-01|        8|          cs9g|           1875|    arbk|         cen|                 1|                    1|\n",
      "| 742931|2019-11-01|        1|          cs6r|           1891|    arbk|         cen|                 1|                    1|\n",
      "| 385595|2019-11-01|        1|         caref|           1984|    arbk|         cen|                 1|                    1|\n",
      "| 764852|2019-11-01|        1|         cagbi|           1981|    arbk|         cen|                 3|                    3|\n",
      "| 574669|2019-11-01|        1|         caref|           1987|    arbk|         cen|                 3|                    3|\n",
      "| 451882|2019-11-01|        1|         caref|           1986|    arbk|         cen|                 3|                    3|\n",
      "| 336911|2019-11-01|       28|         caval|           1993|    arbk|         cen|               100|                    1|\n",
      "| 319970|2019-11-01|        1|          cs8r|           1904|    arbk|         cen|                12|                    1|\n",
      "+-------+----------+---------+--------------+---------------+--------+------------+------------------+---------------------+\n",
      "only showing top 10 rows"
     ]
    }
   ],
   "source": [
    "df_train.show(10)"
   ]
  },
  {
   "cell_type": "markdown",
   "metadata": {},
   "source": [
    "### Now we add labels to our train and test dataset. Label for train dataset will come from checkouts from Nov and for test, they come from December."
   ]
  },
  {
   "cell_type": "code",
   "execution_count": 182,
   "metadata": {},
   "outputs": [
    {
     "data": {
      "application/vnd.jupyter.widget-view+json": {
       "model_id": "5ec71ddf89b34309b39ed50867ca1076",
       "version_major": 2,
       "version_minor": 0
      },
      "text/plain": [
       "VBox()"
      ]
     },
     "metadata": {},
     "output_type": "display_data"
    },
    {
     "data": {
      "application/vnd.jupyter.widget-view+json": {
       "model_id": "",
       "version_major": 2,
       "version_minor": 0
      },
      "text/plain": [
       "FloatProgress(value=0.0, bar_style='info', description='Progress:', layout=Layout(height='25px', width='50%'),…"
      ]
     },
     "metadata": {},
     "output_type": "display_data"
    },
    {
     "name": "stdout",
     "output_type": "stream",
     "text": [
      "root\n",
      " |-- BibNumber: integer (nullable = true)\n",
      " |-- CheckoutDateTime: date (nullable = true)"
     ]
    }
   ],
   "source": [
    "checkout_df = sqlcontext.read.parquet('s3://intersession-distcomp/Checkouts')\n",
    "checkout_df.printSchema()"
   ]
  },
  {
   "cell_type": "code",
   "execution_count": 183,
   "metadata": {},
   "outputs": [
    {
     "data": {
      "application/vnd.jupyter.widget-view+json": {
       "model_id": "2f9356ecbf84471391c601a069545f6c",
       "version_major": 2,
       "version_minor": 0
      },
      "text/plain": [
       "VBox()"
      ]
     },
     "metadata": {},
     "output_type": "display_data"
    },
    {
     "data": {
      "application/vnd.jupyter.widget-view+json": {
       "model_id": "",
       "version_major": 2,
       "version_minor": 0
      },
      "text/plain": [
       "FloatProgress(value=0.0, bar_style='info', description='Progress:', layout=Layout(height='25px', width='50%'),…"
      ]
     },
     "metadata": {},
     "output_type": "display_data"
    },
    {
     "name": "stdout",
     "output_type": "stream",
     "text": [
      "+-------+----------+\n",
      "| BibNum|      date|\n",
      "+-------+----------+\n",
      "|3027450|2015-05-27|\n",
      "|2969577|2015-04-18|\n",
      "|2932682|2014-07-25|\n",
      "|2730431|2014-08-25|\n",
      "|2567182|2015-07-13|\n",
      "+-------+----------+\n",
      "only showing top 5 rows"
     ]
    }
   ],
   "source": [
    "checkout_df = checkout_df.withColumnRenamed('BibNumber','BibNum').withColumnRenamed('CheckoutDateTime','date')\n",
    "checkout_df.show(5)"
   ]
  },
  {
   "cell_type": "code",
   "execution_count": 185,
   "metadata": {},
   "outputs": [
    {
     "data": {
      "application/vnd.jupyter.widget-view+json": {
       "model_id": "a5b9c38fad154089ac30b30393ec36ac",
       "version_major": 2,
       "version_minor": 0
      },
      "text/plain": [
       "VBox()"
      ]
     },
     "metadata": {},
     "output_type": "display_data"
    },
    {
     "data": {
      "application/vnd.jupyter.widget-view+json": {
       "model_id": "",
       "version_major": 2,
       "version_minor": 0
      },
      "text/plain": [
       "FloatProgress(value=0.0, bar_style='info', description='Progress:', layout=Layout(height='25px', width='50%'),…"
      ]
     },
     "metadata": {},
     "output_type": "display_data"
    }
   ],
   "source": [
    "checkouts_nov = checkout_df.filter((checkout_df['date'] >= '2019-11-01') & (checkout_df['date'] <= '2019-11-30'))\n",
    "checkouts_nov = checkouts_nov.cache()"
   ]
  },
  {
   "cell_type": "code",
   "execution_count": 186,
   "metadata": {},
   "outputs": [
    {
     "data": {
      "application/vnd.jupyter.widget-view+json": {
       "model_id": "4840015ba0d5490b969feb64739a3f20",
       "version_major": 2,
       "version_minor": 0
      },
      "text/plain": [
       "VBox()"
      ]
     },
     "metadata": {},
     "output_type": "display_data"
    },
    {
     "data": {
      "application/vnd.jupyter.widget-view+json": {
       "model_id": "",
       "version_major": 2,
       "version_minor": 0
      },
      "text/plain": [
       "FloatProgress(value=0.0, bar_style='info', description='Progress:', layout=Layout(height='25px', width='50%'),…"
      ]
     },
     "metadata": {},
     "output_type": "display_data"
    },
    {
     "name": "stdout",
     "output_type": "stream",
     "text": [
      "0.29027123295416246"
     ]
    }
   ],
   "source": [
    "### large perc of books are being checked out multiple times\n",
    "checkouts_nov.select('BibNum').distinct().count() / checkouts_nov.count()"
   ]
  },
  {
   "cell_type": "code",
   "execution_count": 195,
   "metadata": {},
   "outputs": [
    {
     "data": {
      "application/vnd.jupyter.widget-view+json": {
       "model_id": "5c44338f7a034d90a14bccd23d1d7eb6",
       "version_major": 2,
       "version_minor": 0
      },
      "text/plain": [
       "VBox()"
      ]
     },
     "metadata": {},
     "output_type": "display_data"
    },
    {
     "data": {
      "application/vnd.jupyter.widget-view+json": {
       "model_id": "",
       "version_major": 2,
       "version_minor": 0
      },
      "text/plain": [
       "FloatProgress(value=0.0, bar_style='info', description='Progress:', layout=Layout(height='25px', width='50%'),…"
      ]
     },
     "metadata": {},
     "output_type": "display_data"
    }
   ],
   "source": [
    "checkouts_nov_dist = checkouts_nov.select('BibNum').distinct().withColumn(\"Test\",lit(1))"
   ]
  },
  {
   "cell_type": "code",
   "execution_count": 196,
   "metadata": {
    "scrolled": true
   },
   "outputs": [
    {
     "data": {
      "application/vnd.jupyter.widget-view+json": {
       "model_id": "366a4d0450274288ac54c8bc30c0cc35",
       "version_major": 2,
       "version_minor": 0
      },
      "text/plain": [
       "VBox()"
      ]
     },
     "metadata": {},
     "output_type": "display_data"
    },
    {
     "data": {
      "application/vnd.jupyter.widget-view+json": {
       "model_id": "",
       "version_major": 2,
       "version_minor": 0
      },
      "text/plain": [
       "FloatProgress(value=0.0, bar_style='info', description='Progress:', layout=Layout(height='25px', width='50%'),…"
      ]
     },
     "metadata": {},
     "output_type": "display_data"
    },
    {
     "name": "stdout",
     "output_type": "stream",
     "text": [
      "+-------+----+\n",
      "| BibNum|Test|\n",
      "+-------+----+\n",
      "|3374689|   1|\n",
      "|2767269|   1|\n",
      "|3078117|   1|\n",
      "|3469318|   1|\n",
      "|3375992|   1|\n",
      "+-------+----+\n",
      "only showing top 5 rows"
     ]
    }
   ],
   "source": [
    "checkouts_nov_dist.show(5)"
   ]
  },
  {
   "cell_type": "code",
   "execution_count": 207,
   "metadata": {},
   "outputs": [
    {
     "data": {
      "application/vnd.jupyter.widget-view+json": {
       "model_id": "42643c0959a54ce8ae80a7190a5f4964",
       "version_major": 2,
       "version_minor": 0
      },
      "text/plain": [
       "VBox()"
      ]
     },
     "metadata": {},
     "output_type": "display_data"
    },
    {
     "data": {
      "application/vnd.jupyter.widget-view+json": {
       "model_id": "",
       "version_major": 2,
       "version_minor": 0
      },
      "text/plain": [
       "FloatProgress(value=0.0, bar_style='info', description='Progress:', layout=Layout(height='25px', width='50%'),…"
      ]
     },
     "metadata": {},
     "output_type": "display_data"
    },
    {
     "name": "stdout",
     "output_type": "stream",
     "text": [
      "+-------+----+\n",
      "| BibNum|Test|\n",
      "+-------+----+\n",
      "|3400790|   1|\n",
      "|3219719|   1|\n",
      "|3503833|   1|\n",
      "|3078117|   1|\n",
      "|2475246|   1|\n",
      "+-------+----+\n",
      "only showing top 5 rows"
     ]
    }
   ],
   "source": [
    "checkouts_dec = checkout_df.filter((checkout_df['date'] >= '2019-12-01') & (checkout_df['date'] <= '2019-12-31'))\n",
    "checkouts_dec = checkouts_dec.cache()\n",
    "checkouts_dec_dist = checkouts_dec.select('BibNum').distinct().withColumn(\"Test\",lit(1))\n",
    "checkouts_dec_dist.show(5)"
   ]
  },
  {
   "cell_type": "markdown",
   "metadata": {},
   "source": [
    "### Creating Labels on test and train datasets"
   ]
  },
  {
   "cell_type": "code",
   "execution_count": 204,
   "metadata": {},
   "outputs": [
    {
     "data": {
      "application/vnd.jupyter.widget-view+json": {
       "model_id": "1b641ab6713249498a22c2cf3518a488",
       "version_major": 2,
       "version_minor": 0
      },
      "text/plain": [
       "VBox()"
      ]
     },
     "metadata": {},
     "output_type": "display_data"
    },
    {
     "data": {
      "application/vnd.jupyter.widget-view+json": {
       "model_id": "",
       "version_major": 2,
       "version_minor": 0
      },
      "text/plain": [
       "FloatProgress(value=0.0, bar_style='info', description='Progress:', layout=Layout(height='25px', width='50%'),…"
      ]
     },
     "metadata": {},
     "output_type": "display_data"
    }
   ],
   "source": [
    "df_train = df_train.join(checkouts_nov_dist, on='BibNum', how='left').withColumnRenamed('Test','label')"
   ]
  },
  {
   "cell_type": "code",
   "execution_count": 205,
   "metadata": {},
   "outputs": [
    {
     "data": {
      "application/vnd.jupyter.widget-view+json": {
       "model_id": "13912a65df7842c2800f7148c872bdca",
       "version_major": 2,
       "version_minor": 0
      },
      "text/plain": [
       "VBox()"
      ]
     },
     "metadata": {},
     "output_type": "display_data"
    },
    {
     "data": {
      "application/vnd.jupyter.widget-view+json": {
       "model_id": "",
       "version_major": 2,
       "version_minor": 0
      },
      "text/plain": [
       "FloatProgress(value=0.0, bar_style='info', description='Progress:', layout=Layout(height='25px', width='50%'),…"
      ]
     },
     "metadata": {},
     "output_type": "display_data"
    },
    {
     "name": "stdout",
     "output_type": "stream",
     "text": [
      "+-----+------+\n",
      "|label| count|\n",
      "+-----+------+\n",
      "|    1|130988|\n",
      "|    0|654279|\n",
      "+-----+------+"
     ]
    }
   ],
   "source": [
    "df_train = df_train.fillna(0, subset=['label'])\n",
    "df_train.groupBy('label').count().show()"
   ]
  },
  {
   "cell_type": "code",
   "execution_count": 208,
   "metadata": {},
   "outputs": [
    {
     "data": {
      "application/vnd.jupyter.widget-view+json": {
       "model_id": "989d4eda0d454d1aa16cbc659d8913c6",
       "version_major": 2,
       "version_minor": 0
      },
      "text/plain": [
       "VBox()"
      ]
     },
     "metadata": {},
     "output_type": "display_data"
    },
    {
     "data": {
      "application/vnd.jupyter.widget-view+json": {
       "model_id": "",
       "version_major": 2,
       "version_minor": 0
      },
      "text/plain": [
       "FloatProgress(value=0.0, bar_style='info', description='Progress:', layout=Layout(height='25px', width='50%'),…"
      ]
     },
     "metadata": {},
     "output_type": "display_data"
    }
   ],
   "source": [
    "df_test = df_test.join(checkouts_dec_dist, on='BibNum', how='left').withColumnRenamed('Test','label')"
   ]
  },
  {
   "cell_type": "code",
   "execution_count": 209,
   "metadata": {},
   "outputs": [
    {
     "data": {
      "application/vnd.jupyter.widget-view+json": {
       "model_id": "6ee68138076a453eab5a5d8d20a65bab",
       "version_major": 2,
       "version_minor": 0
      },
      "text/plain": [
       "VBox()"
      ]
     },
     "metadata": {},
     "output_type": "display_data"
    },
    {
     "data": {
      "application/vnd.jupyter.widget-view+json": {
       "model_id": "",
       "version_major": 2,
       "version_minor": 0
      },
      "text/plain": [
       "FloatProgress(value=0.0, bar_style='info', description='Progress:', layout=Layout(height='25px', width='50%'),…"
      ]
     },
     "metadata": {},
     "output_type": "display_data"
    },
    {
     "name": "stdout",
     "output_type": "stream",
     "text": [
      "+-----+------+\n",
      "|label| count|\n",
      "+-----+------+\n",
      "|    1|126271|\n",
      "|    0|661647|\n",
      "+-----+------+"
     ]
    }
   ],
   "source": [
    "df_test = df_test.fillna(0, subset=['label'])\n",
    "df_test.groupBy('label').count().show()"
   ]
  },
  {
   "cell_type": "markdown",
   "metadata": {},
   "source": [
    "### Variables like Checkouts last 1 month etc should have a good predictive power. We will create a host of them for our model, creating just one for now."
   ]
  },
  {
   "cell_type": "code",
   "execution_count": 215,
   "metadata": {},
   "outputs": [
    {
     "data": {
      "application/vnd.jupyter.widget-view+json": {
       "model_id": "416def2d4b2f40c6b02e1daf722e8b9d",
       "version_major": 2,
       "version_minor": 0
      },
      "text/plain": [
       "VBox()"
      ]
     },
     "metadata": {},
     "output_type": "display_data"
    },
    {
     "data": {
      "application/vnd.jupyter.widget-view+json": {
       "model_id": "",
       "version_major": 2,
       "version_minor": 0
      },
      "text/plain": [
       "FloatProgress(value=0.0, bar_style='info', description='Progress:', layout=Layout(height='25px', width='50%'),…"
      ]
     },
     "metadata": {},
     "output_type": "display_data"
    }
   ],
   "source": [
    "checkout_oct = checkout_df.filter((checkout_df['date'] >= '2019-10-01') & (checkout_df['date'] <= '2019-10-31'))\\\n",
    "    .groupBy('BibNum').count()"
   ]
  },
  {
   "cell_type": "code",
   "execution_count": 216,
   "metadata": {},
   "outputs": [
    {
     "data": {
      "application/vnd.jupyter.widget-view+json": {
       "model_id": "01baa2cfcfcc4bbe8c633ff34b2ba582",
       "version_major": 2,
       "version_minor": 0
      },
      "text/plain": [
       "VBox()"
      ]
     },
     "metadata": {},
     "output_type": "display_data"
    },
    {
     "data": {
      "application/vnd.jupyter.widget-view+json": {
       "model_id": "",
       "version_major": 2,
       "version_minor": 0
      },
      "text/plain": [
       "FloatProgress(value=0.0, bar_style='info', description='Progress:', layout=Layout(height='25px', width='50%'),…"
      ]
     },
     "metadata": {},
     "output_type": "display_data"
    }
   ],
   "source": [
    "checkout_oct = checkout_oct.cache()"
   ]
  },
  {
   "cell_type": "code",
   "execution_count": 217,
   "metadata": {},
   "outputs": [
    {
     "data": {
      "application/vnd.jupyter.widget-view+json": {
       "model_id": "e048fbf7e1bc4118adb3f699623cd19f",
       "version_major": 2,
       "version_minor": 0
      },
      "text/plain": [
       "VBox()"
      ]
     },
     "metadata": {},
     "output_type": "display_data"
    },
    {
     "data": {
      "application/vnd.jupyter.widget-view+json": {
       "model_id": "",
       "version_major": 2,
       "version_minor": 0
      },
      "text/plain": [
       "FloatProgress(value=0.0, bar_style='info', description='Progress:', layout=Layout(height='25px', width='50%'),…"
      ]
     },
     "metadata": {},
     "output_type": "display_data"
    },
    {
     "name": "stdout",
     "output_type": "stream",
     "text": [
      "135568"
     ]
    }
   ],
   "source": [
    "checkout_oct.count()"
   ]
  },
  {
   "cell_type": "code",
   "execution_count": 218,
   "metadata": {},
   "outputs": [
    {
     "data": {
      "application/vnd.jupyter.widget-view+json": {
       "model_id": "015c382cb2da4c23b6d82b5854f95601",
       "version_major": 2,
       "version_minor": 0
      },
      "text/plain": [
       "VBox()"
      ]
     },
     "metadata": {},
     "output_type": "display_data"
    },
    {
     "data": {
      "application/vnd.jupyter.widget-view+json": {
       "model_id": "",
       "version_major": 2,
       "version_minor": 0
      },
      "text/plain": [
       "FloatProgress(value=0.0, bar_style='info', description='Progress:', layout=Layout(height='25px', width='50%'),…"
      ]
     },
     "metadata": {},
     "output_type": "display_data"
    }
   ],
   "source": [
    "df_train = df_train.join(checkout_oct, on='BibNum', how='left').withColumnRenamed('count','checkouts_l1m')"
   ]
  },
  {
   "cell_type": "code",
   "execution_count": 219,
   "metadata": {},
   "outputs": [
    {
     "data": {
      "application/vnd.jupyter.widget-view+json": {
       "model_id": "8a4e82017c844652b532f70cabf707f6",
       "version_major": 2,
       "version_minor": 0
      },
      "text/plain": [
       "VBox()"
      ]
     },
     "metadata": {},
     "output_type": "display_data"
    },
    {
     "data": {
      "application/vnd.jupyter.widget-view+json": {
       "model_id": "",
       "version_major": 2,
       "version_minor": 0
      },
      "text/plain": [
       "FloatProgress(value=0.0, bar_style='info', description='Progress:', layout=Layout(height='25px', width='50%'),…"
      ]
     },
     "metadata": {},
     "output_type": "display_data"
    }
   ],
   "source": [
    "df_train = df_train.fillna(0, subset=['checkouts_l1m'])"
   ]
  },
  {
   "cell_type": "code",
   "execution_count": 226,
   "metadata": {},
   "outputs": [
    {
     "data": {
      "application/vnd.jupyter.widget-view+json": {
       "model_id": "289bab169dce4ce596d619e3a497a1a5",
       "version_major": 2,
       "version_minor": 0
      },
      "text/plain": [
       "VBox()"
      ]
     },
     "metadata": {},
     "output_type": "display_data"
    },
    {
     "data": {
      "application/vnd.jupyter.widget-view+json": {
       "model_id": "",
       "version_major": 2,
       "version_minor": 0
      },
      "text/plain": [
       "FloatProgress(value=0.0, bar_style='info', description='Progress:', layout=Layout(height='25px', width='50%'),…"
      ]
     },
     "metadata": {},
     "output_type": "display_data"
    }
   ],
   "source": [
    "checkouts_nov = checkout_df.filter((checkout_df['date'] >= '2019-11-01') & (checkout_df['date'] <= '2019-11-30'))\n",
    "checkouts_nov = checkouts_nov.cache()"
   ]
  },
  {
   "cell_type": "code",
   "execution_count": 227,
   "metadata": {},
   "outputs": [
    {
     "data": {
      "application/vnd.jupyter.widget-view+json": {
       "model_id": "3d91bd686a034c56bf6a08ad3bcccc8e",
       "version_major": 2,
       "version_minor": 0
      },
      "text/plain": [
       "VBox()"
      ]
     },
     "metadata": {},
     "output_type": "display_data"
    },
    {
     "data": {
      "application/vnd.jupyter.widget-view+json": {
       "model_id": "",
       "version_major": 2,
       "version_minor": 0
      },
      "text/plain": [
       "FloatProgress(value=0.0, bar_style='info', description='Progress:', layout=Layout(height='25px', width='50%'),…"
      ]
     },
     "metadata": {},
     "output_type": "display_data"
    }
   ],
   "source": [
    "checkouts_nov = checkouts_nov.groupBy('BibNum').count()"
   ]
  },
  {
   "cell_type": "code",
   "execution_count": 228,
   "metadata": {},
   "outputs": [
    {
     "data": {
      "application/vnd.jupyter.widget-view+json": {
       "model_id": "674869f286ec4864a44233a39dde4dba",
       "version_major": 2,
       "version_minor": 0
      },
      "text/plain": [
       "VBox()"
      ]
     },
     "metadata": {},
     "output_type": "display_data"
    },
    {
     "data": {
      "application/vnd.jupyter.widget-view+json": {
       "model_id": "",
       "version_major": 2,
       "version_minor": 0
      },
      "text/plain": [
       "FloatProgress(value=0.0, bar_style='info', description='Progress:', layout=Layout(height='25px', width='50%'),…"
      ]
     },
     "metadata": {},
     "output_type": "display_data"
    }
   ],
   "source": [
    "df_test = df_test.join(checkouts_nov, on='BibNum', how='left').withColumnRenamed('count','checkouts_l1m')\n",
    "df_test = df_test.fillna(0, subset=['checkouts_l1m'])"
   ]
  },
  {
   "cell_type": "code",
   "execution_count": 229,
   "metadata": {},
   "outputs": [
    {
     "data": {
      "application/vnd.jupyter.widget-view+json": {
       "model_id": "03b9ccc2bf26492f9566769b276c0c48",
       "version_major": 2,
       "version_minor": 0
      },
      "text/plain": [
       "VBox()"
      ]
     },
     "metadata": {},
     "output_type": "display_data"
    },
    {
     "data": {
      "application/vnd.jupyter.widget-view+json": {
       "model_id": "",
       "version_major": 2,
       "version_minor": 0
      },
      "text/plain": [
       "FloatProgress(value=0.0, bar_style='info', description='Progress:', layout=Layout(height='25px', width='50%'),…"
      ]
     },
     "metadata": {},
     "output_type": "display_data"
    },
    {
     "name": "stdout",
     "output_type": "stream",
     "text": [
      "+-------+----------+---------+--------------+---------------+--------+------------+------------------+---------------------+-----+-------------+\n",
      "| BibNum|ReportDate|ItemCount|ItemCollection|PublicationYear|ItemType|ItemLocation|author_book_counts|publisher_book_counts|label|checkouts_l1m|\n",
      "+-------+----------+---------+--------------+---------------+--------+------------+------------------+---------------------+-----+-------------+\n",
      "|2733621|2019-12-01|        1|          canf|           2011|    acbk|         cen|                60|                    1|    0|            0|\n",
      "| 727488|2019-12-01|        1|         casea|           1977|    arbk|         cen|                60|                    1|    0|            0|\n",
      "| 746183|2019-12-01|        8|          cs9g|           1875|    arbk|         cen|                 1|                    1|    0|            0|\n",
      "| 742931|2019-12-01|        1|          cs6r|           1891|    arbk|         cen|                 1|                    1|    0|            0|\n",
      "| 385595|2019-12-01|        1|         caref|           1984|    arbk|         cen|                 1|                    1|    0|            0|\n",
      "| 764852|2019-12-01|        1|         cagbi|           1981|    arbk|         cen|                 3|                    3|    0|            0|\n",
      "| 451882|2019-12-01|        1|         caref|           1986|    arbk|         cen|                 3|                    3|    0|            0|\n",
      "| 574669|2019-12-01|        1|         caref|           1987|    arbk|         cen|                 3|                    3|    0|            0|\n",
      "| 336911|2019-12-01|       28|         caval|           1993|    arbk|         cen|               100|                    1|    0|            0|\n",
      "| 319970|2019-12-01|        1|          cs8r|           1904|    arbk|         cen|                12|                    1|    0|            0|\n",
      "+-------+----------+---------+--------------+---------------+--------+------------+------------------+---------------------+-----+-------------+\n",
      "only showing top 10 rows"
     ]
    }
   ],
   "source": [
    "df_test.show(10)"
   ]
  },
  {
   "cell_type": "code",
   "execution_count": 230,
   "metadata": {},
   "outputs": [
    {
     "data": {
      "application/vnd.jupyter.widget-view+json": {
       "model_id": "f9c1a65687f54ebc908ddc7c6ef00faa",
       "version_major": 2,
       "version_minor": 0
      },
      "text/plain": [
       "VBox()"
      ]
     },
     "metadata": {},
     "output_type": "display_data"
    },
    {
     "data": {
      "application/vnd.jupyter.widget-view+json": {
       "model_id": "",
       "version_major": 2,
       "version_minor": 0
      },
      "text/plain": [
       "FloatProgress(value=0.0, bar_style='info', description='Progress:', layout=Layout(height='25px', width='50%'),…"
      ]
     },
     "metadata": {},
     "output_type": "display_data"
    },
    {
     "name": "stdout",
     "output_type": "stream",
     "text": [
      "+-------------+------+\n",
      "|checkouts_l1m| count|\n",
      "+-------------+------+\n",
      "|           26|    94|\n",
      "|           29|    63|\n",
      "|           65|     7|\n",
      "|           19|   218|\n",
      "|           54|    10|\n",
      "|            0|654860|\n",
      "|          348|     1|\n",
      "|          167|     1|\n",
      "|          155|     1|\n",
      "|          113|     1|\n",
      "+-------------+------+\n",
      "only showing top 10 rows"
     ]
    }
   ],
   "source": [
    "df_test.groupBy('checkouts_l1m').count().show(10)"
   ]
  },
  {
   "cell_type": "markdown",
   "metadata": {},
   "source": [
    "#### Final Train and Test Dataframes"
   ]
  },
  {
   "cell_type": "code",
   "execution_count": 232,
   "metadata": {},
   "outputs": [
    {
     "data": {
      "application/vnd.jupyter.widget-view+json": {
       "model_id": "642035d00a944a0e9a7ea66d87034fa6",
       "version_major": 2,
       "version_minor": 0
      },
      "text/plain": [
       "VBox()"
      ]
     },
     "metadata": {},
     "output_type": "display_data"
    },
    {
     "data": {
      "application/vnd.jupyter.widget-view+json": {
       "model_id": "",
       "version_major": 2,
       "version_minor": 0
      },
      "text/plain": [
       "FloatProgress(value=0.0, bar_style='info', description='Progress:', layout=Layout(height='25px', width='50%'),…"
      ]
     },
     "metadata": {},
     "output_type": "display_data"
    },
    {
     "name": "stdout",
     "output_type": "stream",
     "text": [
      "+-------+---------+--------------+---------------+--------+------------+------------------+---------------------+-----+-------------+\n",
      "| BibNum|ItemCount|ItemCollection|PublicationYear|ItemType|ItemLocation|author_book_counts|publisher_book_counts|label|checkouts_l1m|\n",
      "+-------+---------+--------------+---------------+--------+------------+------------------+---------------------+-----+-------------+\n",
      "|2733621|        1|          canf|           2011|    acbk|         cen|                60|                    1|    0|            0|\n",
      "| 727488|        1|         casea|           1977|    arbk|         cen|                60|                    1|    0|            0|\n",
      "| 746183|        8|          cs9g|           1875|    arbk|         cen|                 1|                    1|    0|            0|\n",
      "| 742931|        1|          cs6r|           1891|    arbk|         cen|                 1|                    1|    0|            0|\n",
      "| 385595|        1|         caref|           1984|    arbk|         cen|                 1|                    1|    0|            0|\n",
      "| 574669|        1|         caref|           1987|    arbk|         cen|                 3|                    3|    0|            0|\n",
      "| 764852|        1|         cagbi|           1981|    arbk|         cen|                 3|                    3|    0|            0|\n",
      "| 451882|        1|         caref|           1986|    arbk|         cen|                 3|                    3|    0|            0|\n",
      "| 336911|       28|         caval|           1993|    arbk|         cen|               100|                    1|    0|            0|\n",
      "| 319970|        1|          cs8r|           1904|    arbk|         cen|                12|                    1|    0|            0|\n",
      "|2909969|        1|         nadvd|           2011|   acdvd|         fre|                60|                    1|    0|            0|\n",
      "|3338772|        5|          nanf|           2018|    acbk|         swt|                 1|                    4|    1|            0|\n",
      "|3011418|        4|          nanf|           2014|    acbk|         swt|                 1|                    4|    1|            0|\n",
      "|3038099|        2|          canf|           2015|    acbk|         cen|                 2|                    4|    0|            0|\n",
      "|3135942|        2|          nanf|           2016|    acbk|         gwd|                 1|                    4|    1|            0|\n",
      "|3177594|        6|         ncpic|           2012|    jcbk|         wts|                 2|                    1|    1|            6|\n",
      "| 188664|        2|         caref|           1971|    arbk|         cen|                 1|                    1|    0|            0|\n",
      "| 163463|        1|        caaero|           1974|    arbk|         cen|                 1|                    1|    0|            0|\n",
      "|3355618|        4|       nycomic|           2017|    acbk|         swt|                17|                    1|    1|            0|\n",
      "| 336281|        2|          cs7r|           1993|    arbk|         cen|                 4|                    1|    0|            0|\n",
      "+-------+---------+--------------+---------------+--------+------------+------------------+---------------------+-----+-------------+\n",
      "only showing top 20 rows"
     ]
    }
   ],
   "source": [
    "df_train = df_train.drop('ReportDate')\n",
    "df_train.show()"
   ]
  },
  {
   "cell_type": "code",
   "execution_count": 233,
   "metadata": {},
   "outputs": [
    {
     "data": {
      "application/vnd.jupyter.widget-view+json": {
       "model_id": "5530139cbe5149789c8edaad142b5654",
       "version_major": 2,
       "version_minor": 0
      },
      "text/plain": [
       "VBox()"
      ]
     },
     "metadata": {},
     "output_type": "display_data"
    },
    {
     "data": {
      "application/vnd.jupyter.widget-view+json": {
       "model_id": "",
       "version_major": 2,
       "version_minor": 0
      },
      "text/plain": [
       "FloatProgress(value=0.0, bar_style='info', description='Progress:', layout=Layout(height='25px', width='50%'),…"
      ]
     },
     "metadata": {},
     "output_type": "display_data"
    },
    {
     "name": "stdout",
     "output_type": "stream",
     "text": [
      "+-------+---------+--------------+---------------+--------+------------+------------------+---------------------+-----+-------------+\n",
      "| BibNum|ItemCount|ItemCollection|PublicationYear|ItemType|ItemLocation|author_book_counts|publisher_book_counts|label|checkouts_l1m|\n",
      "+-------+---------+--------------+---------------+--------+------------+------------------+---------------------+-----+-------------+\n",
      "|2733621|        1|          canf|           2011|    acbk|         cen|                60|                    1|    0|            0|\n",
      "| 727488|        1|         casea|           1977|    arbk|         cen|                60|                    1|    0|            0|\n",
      "| 746183|        8|          cs9g|           1875|    arbk|         cen|                 1|                    1|    0|            0|\n",
      "| 742931|        1|          cs6r|           1891|    arbk|         cen|                 1|                    1|    0|            0|\n",
      "| 385595|        1|         caref|           1984|    arbk|         cen|                 1|                    1|    0|            0|\n",
      "| 764852|        1|         cagbi|           1981|    arbk|         cen|                 3|                    3|    0|            0|\n",
      "| 451882|        1|         caref|           1986|    arbk|         cen|                 3|                    3|    0|            0|\n",
      "| 574669|        1|         caref|           1987|    arbk|         cen|                 3|                    3|    0|            0|\n",
      "| 336911|       28|         caval|           1993|    arbk|         cen|               100|                    1|    0|            0|\n",
      "| 319970|        1|          cs8r|           1904|    arbk|         cen|                12|                    1|    0|            0|\n",
      "|2909969|        1|         nadvd|           2011|   acdvd|         fre|                60|                    1|    0|            0|\n",
      "|3338772|        5|          nanf|           2018|    acbk|         swt|                 1|                    4|    0|            1|\n",
      "|3011418|        4|          nanf|           2014|    acbk|         swt|                 1|                    4|    0|            1|\n",
      "|3038099|        2|          canf|           2015|    acbk|         cen|                 2|                    4|    0|            0|\n",
      "|3135942|        2|          nanf|           2016|    acbk|         gwd|                 1|                    4|    0|            1|\n",
      "|3177594|        4|         ncpic|           2012|    jcbk|         wts|                 2|                    1|    1|            3|\n",
      "| 188664|        2|         caref|           1971|    arbk|         cen|                 1|                    1|    0|            0|\n",
      "| 163463|        1|        caaero|           1974|    arbk|         cen|                 1|                    1|    0|            0|\n",
      "|3355618|        4|       nycomic|           2017|    acbk|         swt|                17|                    1|    1|            2|\n",
      "| 336281|        2|          cs7r|           1993|    arbk|         cen|                 4|                    1|    0|            0|\n",
      "+-------+---------+--------------+---------------+--------+------------+------------------+---------------------+-----+-------------+\n",
      "only showing top 20 rows"
     ]
    }
   ],
   "source": [
    "df_test = df_test.drop('ReportDate')\n",
    "df_test.show()"
   ]
  },
  {
   "cell_type": "markdown",
   "metadata": {},
   "source": [
    "### Exporting to HDFS"
   ]
  },
  {
   "cell_type": "code",
   "execution_count": 234,
   "metadata": {},
   "outputs": [
    {
     "data": {
      "application/vnd.jupyter.widget-view+json": {
       "model_id": "827df98344bb450cbfb820d56a9c97cb",
       "version_major": 2,
       "version_minor": 0
      },
      "text/plain": [
       "VBox()"
      ]
     },
     "metadata": {},
     "output_type": "display_data"
    },
    {
     "data": {
      "application/vnd.jupyter.widget-view+json": {
       "model_id": "",
       "version_major": 2,
       "version_minor": 0
      },
      "text/plain": [
       "FloatProgress(value=0.0, bar_style='info', description='Progress:', layout=Layout(height='25px', width='50%'),…"
      ]
     },
     "metadata": {},
     "output_type": "display_data"
    }
   ],
   "source": [
    "df_train.write.option(\"path\",\"/train\").saveAsTable('train')"
   ]
  },
  {
   "cell_type": "code",
   "execution_count": 235,
   "metadata": {},
   "outputs": [
    {
     "data": {
      "application/vnd.jupyter.widget-view+json": {
       "model_id": "79e2c44687fb4537895b0fa9da95f3b3",
       "version_major": 2,
       "version_minor": 0
      },
      "text/plain": [
       "VBox()"
      ]
     },
     "metadata": {},
     "output_type": "display_data"
    },
    {
     "data": {
      "application/vnd.jupyter.widget-view+json": {
       "model_id": "",
       "version_major": 2,
       "version_minor": 0
      },
      "text/plain": [
       "FloatProgress(value=0.0, bar_style='info', description='Progress:', layout=Layout(height='25px', width='50%'),…"
      ]
     },
     "metadata": {},
     "output_type": "display_data"
    }
   ],
   "source": [
    "df_test.write.option(\"path\",\"/test\").saveAsTable('test')"
   ]
  },
  {
   "cell_type": "markdown",
   "metadata": {},
   "source": [
    "### Reading the file back from HDFS"
   ]
  },
  {
   "cell_type": "code",
   "execution_count": 237,
   "metadata": {},
   "outputs": [
    {
     "data": {
      "application/vnd.jupyter.widget-view+json": {
       "model_id": "6d8663be13b24435a061c77aa886ef02",
       "version_major": 2,
       "version_minor": 0
      },
      "text/plain": [
       "VBox()"
      ]
     },
     "metadata": {},
     "output_type": "display_data"
    },
    {
     "data": {
      "application/vnd.jupyter.widget-view+json": {
       "model_id": "",
       "version_major": 2,
       "version_minor": 0
      },
      "text/plain": [
       "FloatProgress(value=0.0, bar_style='info', description='Progress:', layout=Layout(height='25px', width='50%'),…"
      ]
     },
     "metadata": {},
     "output_type": "display_data"
    },
    {
     "name": "stdout",
     "output_type": "stream",
     "text": [
      "+-------+---------+--------------+---------------+--------+------------+------------------+---------------------+-----+-------------+\n",
      "| BibNum|ItemCount|ItemCollection|PublicationYear|ItemType|ItemLocation|author_book_counts|publisher_book_counts|label|checkouts_l1m|\n",
      "+-------+---------+--------------+---------------+--------+------------+------------------+---------------------+-----+-------------+\n",
      "| 193435|        1|         caref|           1969|    arbk|         cen|                 1|                    1|    0|            0|\n",
      "|3035345|        1|          canf|           2014|    acbk|         cen|                 2|                    1|    0|            0|\n",
      "|3119038|        4|          nanf|           2015|    acbk|         net|                 3|                    7|    0|            0|\n",
      "|3038071|        3|          nanf|           2014|    acbk|         swt|                 3|                    7|    0|            0|\n",
      "|3136759|        1|          canf|           2015|    acbk|         cen|                 1|                    7|    0|            0|\n",
      "+-------+---------+--------------+---------------+--------+------------+------------------+---------------------+-----+-------------+\n",
      "only showing top 5 rows"
     ]
    }
   ],
   "source": [
    "ss.sql(\"select * from parquet.`/train`\").show(5)"
   ]
  },
  {
   "cell_type": "code",
   "execution_count": 238,
   "metadata": {},
   "outputs": [
    {
     "data": {
      "application/vnd.jupyter.widget-view+json": {
       "model_id": "9663299efcc649b1aec041de992a5d4d",
       "version_major": 2,
       "version_minor": 0
      },
      "text/plain": [
       "VBox()"
      ]
     },
     "metadata": {},
     "output_type": "display_data"
    },
    {
     "data": {
      "application/vnd.jupyter.widget-view+json": {
       "model_id": "",
       "version_major": 2,
       "version_minor": 0
      },
      "text/plain": [
       "FloatProgress(value=0.0, bar_style='info', description='Progress:', layout=Layout(height='25px', width='50%'),…"
      ]
     },
     "metadata": {},
     "output_type": "display_data"
    },
    {
     "name": "stdout",
     "output_type": "stream",
     "text": [
      "+-------+---------+--------------+---------------+--------+------------+------------------+---------------------+-----+-------------+\n",
      "| BibNum|ItemCount|ItemCollection|PublicationYear|ItemType|ItemLocation|author_book_counts|publisher_book_counts|label|checkouts_l1m|\n",
      "+-------+---------+--------------+---------------+--------+------------+------------------+---------------------+-----+-------------+\n",
      "| 193435|        1|         caref|           1969|    arbk|         cen|                 1|                    1|    0|            0|\n",
      "|3035345|        1|          canf|           2014|    acbk|         cen|                 2|                    1|    0|            0|\n",
      "|3154601|        4|          nanf|           2015|    acbk|         net|                 1|                    7|    1|            0|\n",
      "|3136759|        1|          canf|           2015|    acbk|         cen|                 1|                    7|    0|            0|\n",
      "|3038071|        3|          nanf|           2014|    acbk|         swt|                 3|                    7|    0|            0|\n",
      "+-------+---------+--------------+---------------+--------+------------+------------------+---------------------+-----+-------------+\n",
      "only showing top 5 rows"
     ]
    }
   ],
   "source": [
    "ss.sql(\"select * from parquet.`/test`\").show(5)"
   ]
  },
  {
   "cell_type": "markdown",
   "metadata": {},
   "source": [
    "### Saving Train and Test datasets on s3 bucket"
   ]
  },
  {
   "cell_type": "code",
   "execution_count": 239,
   "metadata": {},
   "outputs": [
    {
     "data": {
      "application/vnd.jupyter.widget-view+json": {
       "model_id": "9712eed9c8a54429bae3959cced4a897",
       "version_major": 2,
       "version_minor": 0
      },
      "text/plain": [
       "VBox()"
      ]
     },
     "metadata": {},
     "output_type": "display_data"
    },
    {
     "data": {
      "application/vnd.jupyter.widget-view+json": {
       "model_id": "",
       "version_major": 2,
       "version_minor": 0
      },
      "text/plain": [
       "FloatProgress(value=0.0, bar_style='info', description='Progress:', layout=Layout(height='25px', width='50%'),…"
      ]
     },
     "metadata": {},
     "output_type": "display_data"
    }
   ],
   "source": [
    "df_train.write.parquet('s3://intersession-distcomp/train_df')"
   ]
  },
  {
   "cell_type": "code",
   "execution_count": 240,
   "metadata": {},
   "outputs": [
    {
     "data": {
      "application/vnd.jupyter.widget-view+json": {
       "model_id": "ee0499024ce54ce88d8fa4759b2693ac",
       "version_major": 2,
       "version_minor": 0
      },
      "text/plain": [
       "VBox()"
      ]
     },
     "metadata": {},
     "output_type": "display_data"
    },
    {
     "data": {
      "application/vnd.jupyter.widget-view+json": {
       "model_id": "",
       "version_major": 2,
       "version_minor": 0
      },
      "text/plain": [
       "FloatProgress(value=0.0, bar_style='info', description='Progress:', layout=Layout(height='25px', width='50%'),…"
      ]
     },
     "metadata": {},
     "output_type": "display_data"
    }
   ],
   "source": [
    "df_test.write.parquet('s3://intersession-distcomp/test_df')"
   ]
  },
  {
   "cell_type": "markdown",
   "metadata": {},
   "source": [
    "### Reading Test from s3 bucket"
   ]
  },
  {
   "cell_type": "code",
   "execution_count": 241,
   "metadata": {},
   "outputs": [
    {
     "data": {
      "application/vnd.jupyter.widget-view+json": {
       "model_id": "9cd8e91081674ca0b1d7a0ad2e8cddf7",
       "version_major": 2,
       "version_minor": 0
      },
      "text/plain": [
       "VBox()"
      ]
     },
     "metadata": {},
     "output_type": "display_data"
    },
    {
     "data": {
      "application/vnd.jupyter.widget-view+json": {
       "model_id": "",
       "version_major": 2,
       "version_minor": 0
      },
      "text/plain": [
       "FloatProgress(value=0.0, bar_style='info', description='Progress:', layout=Layout(height='25px', width='50%'),…"
      ]
     },
     "metadata": {},
     "output_type": "display_data"
    },
    {
     "name": "stdout",
     "output_type": "stream",
     "text": [
      "+-------+---------+--------------+---------------+--------+------------+------------------+---------------------+-----+-------------+\n",
      "| BibNum|ItemCount|ItemCollection|PublicationYear|ItemType|ItemLocation|author_book_counts|publisher_book_counts|label|checkouts_l1m|\n",
      "+-------+---------+--------------+---------------+--------+------------+------------------+---------------------+-----+-------------+\n",
      "| 566774|        1|          caln|           1993|   arper|         cen|                60|                    1|    0|            0|\n",
      "|2671059|        1|          cacd|           1994|    accd|         cen|                 5|                    2|    0|            0|\n",
      "|2446970|        1|          nacd|           1993|    accd|         gwd|                 3|                    2|    0|            0|\n",
      "|2872844|        5|       nadvdnf|           2012|   acdvd|         wts|                60|                    1|    1|            3|\n",
      "| 253704|        1|         caval|           1837|    arbk|         cen|                34|                    1|    0|            0|\n",
      "+-------+---------+--------------+---------------+--------+------------+------------------+---------------------+-----+-------------+\n",
      "only showing top 5 rows"
     ]
    }
   ],
   "source": [
    "ss.read.parquet('s3://intersession-distcomp/test_df').show(5)"
   ]
  }
 ],
 "metadata": {
  "kernelspec": {
   "display_name": "PySpark",
   "language": "",
   "name": "pysparkkernel"
  },
  "language_info": {
   "codemirror_mode": {
    "name": "python",
    "version": 2
   },
   "mimetype": "text/x-python",
   "name": "pyspark",
   "pygments_lexer": "python2"
  }
 },
 "nbformat": 4,
 "nbformat_minor": 2
}
