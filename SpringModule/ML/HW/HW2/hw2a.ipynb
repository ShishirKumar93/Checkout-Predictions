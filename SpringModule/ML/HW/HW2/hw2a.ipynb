{
 "cells": [
  {
   "cell_type": "markdown",
   "metadata": {},
   "source": [
    "# Homework 2 part a: Logistic MF with Pytorch\n",
    "\n",
    "Given a dataset with amazon ratings of books, write a pytorch code with the following model:\n",
    "$$\\hat{y_{ij}} = sigmoid(u_i \\cdot v_j + b_i + c_j)$$\n",
    "\n",
    "This is a binary dataset (ratings are 0's or 1's). The loss function for this model is log loss or binary cross entropy.\n",
    "Also:\n",
    "* Print training loss, validation loss and validation accuracy at every training iteration.\n",
    "\n",
    "Write your code based on the notebook from the class https://github.com/yanneta/ML-notebooks/blob/master/MF_with_pytorch.ipynb"
   ]
  },
  {
   "cell_type": "code",
   "execution_count": 1,
   "metadata": {
    "ExecuteTime": {
     "end_time": "2020-02-02T18:57:30.045906Z",
     "start_time": "2020-02-02T18:57:28.490307Z"
    }
   },
   "outputs": [],
   "source": [
    "from pathlib import Path\n",
    "import pandas as pd\n",
    "import numpy as np\n",
    "\n",
    "import torch\n",
    "import torch.nn as nn\n",
    "import torch.nn.functional as F\n",
    "from torch.utils.data import Dataset, DataLoader"
   ]
  },
  {
   "cell_type": "code",
   "execution_count": 2,
   "metadata": {
    "ExecuteTime": {
     "end_time": "2020-02-02T18:57:30.051933Z",
     "start_time": "2020-02-02T18:57:30.048317Z"
    }
   },
   "outputs": [],
   "source": [
    "PATH = Path(\"data/\")"
   ]
  },
  {
   "cell_type": "code",
   "execution_count": 3,
   "metadata": {
    "ExecuteTime": {
     "end_time": "2020-02-02T18:57:32.118241Z",
     "start_time": "2020-02-02T18:57:30.054302Z"
    }
   },
   "outputs": [],
   "source": [
    "# reading a csv into pandas\n",
    "train = pd.read_csv(PATH/\"train_books_ratings.csv\")\n",
    "valid = pd.read_csv(PATH/\"valid_books_ratings.csv\")"
   ]
  },
  {
   "cell_type": "code",
   "execution_count": 4,
   "metadata": {
    "ExecuteTime": {
     "end_time": "2020-02-02T18:57:32.149350Z",
     "start_time": "2020-02-02T18:57:32.120556Z"
    }
   },
   "outputs": [
    {
     "data": {
      "text/html": [
       "<div>\n",
       "<style scoped>\n",
       "    .dataframe tbody tr th:only-of-type {\n",
       "        vertical-align: middle;\n",
       "    }\n",
       "\n",
       "    .dataframe tbody tr th {\n",
       "        vertical-align: top;\n",
       "    }\n",
       "\n",
       "    .dataframe thead th {\n",
       "        text-align: right;\n",
       "    }\n",
       "</style>\n",
       "<table border=\"1\" class=\"dataframe\">\n",
       "  <thead>\n",
       "    <tr style=\"text-align: right;\">\n",
       "      <th></th>\n",
       "      <th>user</th>\n",
       "      <th>item</th>\n",
       "      <th>rating</th>\n",
       "      <th>timestamp</th>\n",
       "    </tr>\n",
       "  </thead>\n",
       "  <tbody>\n",
       "    <tr>\n",
       "      <td>0</td>\n",
       "      <td>A2IIIDRK3PRRZY</td>\n",
       "      <td>0000000116</td>\n",
       "      <td>0</td>\n",
       "      <td>1395619200</td>\n",
       "    </tr>\n",
       "    <tr>\n",
       "      <td>1</td>\n",
       "      <td>A9KTKY6BUR8U6</td>\n",
       "      <td>0000013714</td>\n",
       "      <td>0</td>\n",
       "      <td>1357516800</td>\n",
       "    </tr>\n",
       "    <tr>\n",
       "      <td>2</td>\n",
       "      <td>A35OP02LIXZ84E</td>\n",
       "      <td>0000477141</td>\n",
       "      <td>0</td>\n",
       "      <td>1399939200</td>\n",
       "    </tr>\n",
       "    <tr>\n",
       "      <td>3</td>\n",
       "      <td>A9WX8DK93SN5</td>\n",
       "      <td>000100039X</td>\n",
       "      <td>0</td>\n",
       "      <td>1385683200</td>\n",
       "    </tr>\n",
       "    <tr>\n",
       "      <td>4</td>\n",
       "      <td>A36JQ1WC5JQPFQ</td>\n",
       "      <td>000100039X</td>\n",
       "      <td>0</td>\n",
       "      <td>1391990400</td>\n",
       "    </tr>\n",
       "  </tbody>\n",
       "</table>\n",
       "</div>"
      ],
      "text/plain": [
       "             user        item  rating   timestamp\n",
       "0  A2IIIDRK3PRRZY  0000000116       0  1395619200\n",
       "1   A9KTKY6BUR8U6  0000013714       0  1357516800\n",
       "2  A35OP02LIXZ84E  0000477141       0  1399939200\n",
       "3    A9WX8DK93SN5  000100039X       0  1385683200\n",
       "4  A36JQ1WC5JQPFQ  000100039X       0  1391990400"
      ]
     },
     "execution_count": 4,
     "metadata": {},
     "output_type": "execute_result"
    }
   ],
   "source": [
    "train.head()"
   ]
  },
  {
   "cell_type": "code",
   "execution_count": 5,
   "metadata": {
    "ExecuteTime": {
     "end_time": "2020-02-02T18:57:32.158753Z",
     "start_time": "2020-02-02T18:57:32.151280Z"
    },
    "scrolled": true
   },
   "outputs": [
    {
     "data": {
      "text/html": [
       "<div>\n",
       "<style scoped>\n",
       "    .dataframe tbody tr th:only-of-type {\n",
       "        vertical-align: middle;\n",
       "    }\n",
       "\n",
       "    .dataframe tbody tr th {\n",
       "        vertical-align: top;\n",
       "    }\n",
       "\n",
       "    .dataframe thead th {\n",
       "        text-align: right;\n",
       "    }\n",
       "</style>\n",
       "<table border=\"1\" class=\"dataframe\">\n",
       "  <thead>\n",
       "    <tr style=\"text-align: right;\">\n",
       "      <th></th>\n",
       "      <th>user</th>\n",
       "      <th>item</th>\n",
       "      <th>rating</th>\n",
       "      <th>timestamp</th>\n",
       "    </tr>\n",
       "  </thead>\n",
       "  <tbody>\n",
       "    <tr>\n",
       "      <td>0</td>\n",
       "      <td>A2E2F4MLVYDGEQ</td>\n",
       "      <td>000100039X</td>\n",
       "      <td>0</td>\n",
       "      <td>1393286400</td>\n",
       "    </tr>\n",
       "    <tr>\n",
       "      <td>1</td>\n",
       "      <td>A386A9WE42M4PG</td>\n",
       "      <td>000100039X</td>\n",
       "      <td>0</td>\n",
       "      <td>1371772800</td>\n",
       "    </tr>\n",
       "    <tr>\n",
       "      <td>2</td>\n",
       "      <td>A1OGQA984MTKBH</td>\n",
       "      <td>000100039X</td>\n",
       "      <td>0</td>\n",
       "      <td>1372118400</td>\n",
       "    </tr>\n",
       "    <tr>\n",
       "      <td>3</td>\n",
       "      <td>A1VVBHGM8DFIZ4</td>\n",
       "      <td>000100039X</td>\n",
       "      <td>0</td>\n",
       "      <td>1387152000</td>\n",
       "    </tr>\n",
       "    <tr>\n",
       "      <td>4</td>\n",
       "      <td>AD6E4Y092Y4KP</td>\n",
       "      <td>000100039X</td>\n",
       "      <td>0</td>\n",
       "      <td>1392336000</td>\n",
       "    </tr>\n",
       "  </tbody>\n",
       "</table>\n",
       "</div>"
      ],
      "text/plain": [
       "             user        item  rating   timestamp\n",
       "0  A2E2F4MLVYDGEQ  000100039X       0  1393286400\n",
       "1  A386A9WE42M4PG  000100039X       0  1371772800\n",
       "2  A1OGQA984MTKBH  000100039X       0  1372118400\n",
       "3  A1VVBHGM8DFIZ4  000100039X       0  1387152000\n",
       "4   AD6E4Y092Y4KP  000100039X       0  1392336000"
      ]
     },
     "execution_count": 5,
     "metadata": {},
     "output_type": "execute_result"
    }
   ],
   "source": [
    "valid.head()"
   ]
  },
  {
   "cell_type": "code",
   "execution_count": 6,
   "metadata": {
    "ExecuteTime": {
     "end_time": "2020-02-02T18:57:39.534858Z",
     "start_time": "2020-02-02T18:57:32.160360Z"
    }
   },
   "outputs": [],
   "source": [
    "# Convert train set users to id numbers\n",
    "train_user_ids = np.sort(np.unique(train.user.values))\n",
    "num_users = len(train_user_ids)\n",
    "userid2idx = {o:i for i,o in enumerate(train_user_ids)}\n",
    "train[\"user\"] = train[\"user\"].apply(lambda x: userid2idx[x])"
   ]
  },
  {
   "cell_type": "code",
   "execution_count": 7,
   "metadata": {
    "ExecuteTime": {
     "end_time": "2020-02-02T18:57:43.169911Z",
     "start_time": "2020-02-02T18:57:39.537536Z"
    }
   },
   "outputs": [],
   "source": [
    "# Convert train set movies to id numbers\n",
    "train_movie_ids = np.sort(np.unique(train.item.values))\n",
    "num_items = len(train_movie_ids)\n",
    "movieid2idx = {o:i for i,o in enumerate(train_movie_ids)}\n",
    "train[\"item\"] = train[\"item\"].apply(lambda x: movieid2idx[x])"
   ]
  },
  {
   "cell_type": "code",
   "execution_count": 8,
   "metadata": {
    "ExecuteTime": {
     "end_time": "2020-02-02T18:57:43.737099Z",
     "start_time": "2020-02-02T18:57:43.172108Z"
    }
   },
   "outputs": [],
   "source": [
    "# Convert validation set users to id numbers\n",
    "valid[\"user\"] = valid[\"user\"].apply(lambda x: userid2idx.get(x, -1)) # -1 for users not in training\n",
    "valid = valid[valid[\"user\"] >= 0].copy()\n",
    "\n",
    "# Convert validation set movies to id numbers\n",
    "valid[\"item\"] = valid[\"item\"].apply(lambda x: movieid2idx.get(x, -1))\n",
    "valid = valid[valid[\"item\"] >= 0].copy()"
   ]
  },
  {
   "cell_type": "code",
   "execution_count": 9,
   "metadata": {
    "ExecuteTime": {
     "end_time": "2020-02-02T18:57:43.749618Z",
     "start_time": "2020-02-02T18:57:43.739584Z"
    },
    "scrolled": true
   },
   "outputs": [
    {
     "data": {
      "text/html": [
       "<div>\n",
       "<style scoped>\n",
       "    .dataframe tbody tr th:only-of-type {\n",
       "        vertical-align: middle;\n",
       "    }\n",
       "\n",
       "    .dataframe tbody tr th {\n",
       "        vertical-align: top;\n",
       "    }\n",
       "\n",
       "    .dataframe thead th {\n",
       "        text-align: right;\n",
       "    }\n",
       "</style>\n",
       "<table border=\"1\" class=\"dataframe\">\n",
       "  <thead>\n",
       "    <tr style=\"text-align: right;\">\n",
       "      <th></th>\n",
       "      <th>user</th>\n",
       "      <th>item</th>\n",
       "      <th>rating</th>\n",
       "      <th>timestamp</th>\n",
       "    </tr>\n",
       "  </thead>\n",
       "  <tbody>\n",
       "    <tr>\n",
       "      <td>0</td>\n",
       "      <td>527409</td>\n",
       "      <td>0</td>\n",
       "      <td>0</td>\n",
       "      <td>1395619200</td>\n",
       "    </tr>\n",
       "    <tr>\n",
       "      <td>1</td>\n",
       "      <td>1059073</td>\n",
       "      <td>1</td>\n",
       "      <td>0</td>\n",
       "      <td>1357516800</td>\n",
       "    </tr>\n",
       "    <tr>\n",
       "      <td>2</td>\n",
       "      <td>750064</td>\n",
       "      <td>2</td>\n",
       "      <td>0</td>\n",
       "      <td>1399939200</td>\n",
       "    </tr>\n",
       "    <tr>\n",
       "      <td>3</td>\n",
       "      <td>1062362</td>\n",
       "      <td>3</td>\n",
       "      <td>0</td>\n",
       "      <td>1385683200</td>\n",
       "    </tr>\n",
       "    <tr>\n",
       "      <td>4</td>\n",
       "      <td>758289</td>\n",
       "      <td>3</td>\n",
       "      <td>0</td>\n",
       "      <td>1391990400</td>\n",
       "    </tr>\n",
       "  </tbody>\n",
       "</table>\n",
       "</div>"
      ],
      "text/plain": [
       "      user  item  rating   timestamp\n",
       "0   527409     0       0  1395619200\n",
       "1  1059073     1       0  1357516800\n",
       "2   750064     2       0  1399939200\n",
       "3  1062362     3       0  1385683200\n",
       "4   758289     3       0  1391990400"
      ]
     },
     "execution_count": 9,
     "metadata": {},
     "output_type": "execute_result"
    }
   ],
   "source": [
    "train.head()"
   ]
  },
  {
   "cell_type": "code",
   "execution_count": 10,
   "metadata": {
    "ExecuteTime": {
     "end_time": "2020-02-02T18:57:43.761960Z",
     "start_time": "2020-02-02T18:57:43.753546Z"
    },
    "scrolled": false
   },
   "outputs": [
    {
     "data": {
      "text/html": [
       "<div>\n",
       "<style scoped>\n",
       "    .dataframe tbody tr th:only-of-type {\n",
       "        vertical-align: middle;\n",
       "    }\n",
       "\n",
       "    .dataframe tbody tr th {\n",
       "        vertical-align: top;\n",
       "    }\n",
       "\n",
       "    .dataframe thead th {\n",
       "        text-align: right;\n",
       "    }\n",
       "</style>\n",
       "<table border=\"1\" class=\"dataframe\">\n",
       "  <thead>\n",
       "    <tr style=\"text-align: right;\">\n",
       "      <th></th>\n",
       "      <th>user</th>\n",
       "      <th>item</th>\n",
       "      <th>rating</th>\n",
       "      <th>timestamp</th>\n",
       "    </tr>\n",
       "  </thead>\n",
       "  <tbody>\n",
       "    <tr>\n",
       "      <td>4</td>\n",
       "      <td>1093526</td>\n",
       "      <td>3</td>\n",
       "      <td>0</td>\n",
       "      <td>1392336000</td>\n",
       "    </tr>\n",
       "    <tr>\n",
       "      <td>5</td>\n",
       "      <td>1172263</td>\n",
       "      <td>3</td>\n",
       "      <td>0</td>\n",
       "      <td>1022025600</td>\n",
       "    </tr>\n",
       "    <tr>\n",
       "      <td>6</td>\n",
       "      <td>1114879</td>\n",
       "      <td>13</td>\n",
       "      <td>0</td>\n",
       "      <td>1277337600</td>\n",
       "    </tr>\n",
       "    <tr>\n",
       "      <td>19</td>\n",
       "      <td>6532</td>\n",
       "      <td>34</td>\n",
       "      <td>0</td>\n",
       "      <td>1336867200</td>\n",
       "    </tr>\n",
       "    <tr>\n",
       "      <td>24</td>\n",
       "      <td>416115</td>\n",
       "      <td>34</td>\n",
       "      <td>0</td>\n",
       "      <td>1390176000</td>\n",
       "    </tr>\n",
       "  </tbody>\n",
       "</table>\n",
       "</div>"
      ],
      "text/plain": [
       "       user  item  rating   timestamp\n",
       "4   1093526     3       0  1392336000\n",
       "5   1172263     3       0  1022025600\n",
       "6   1114879    13       0  1277337600\n",
       "19     6532    34       0  1336867200\n",
       "24   416115    34       0  1390176000"
      ]
     },
     "execution_count": 10,
     "metadata": {},
     "output_type": "execute_result"
    }
   ],
   "source": [
    "valid.head()"
   ]
  },
  {
   "cell_type": "code",
   "execution_count": 11,
   "metadata": {
    "ExecuteTime": {
     "end_time": "2020-02-02T18:57:43.799997Z",
     "start_time": "2020-02-02T18:57:43.764894Z"
    }
   },
   "outputs": [],
   "source": [
    "# Define the class\n",
    "class MF(nn.Module):\n",
    "    def __init__(self, num_users, num_items, emb_size=100):\n",
    "        super(MF, self).__init__()\n",
    "        self.user_emb = nn.Embedding(num_users, emb_size)\n",
    "        self.user_bias = nn.Embedding(num_users, 1)\n",
    "        self.item_emb = nn.Embedding(num_items, emb_size)\n",
    "        self.item_bias = nn.Embedding(num_items, 1)\n",
    "        \n",
    "        # initlializing weights\n",
    "        self.user_emb.weight.data.uniform_(0,0.05)\n",
    "        self.user_bias.weight.data.uniform_(-0.01,0.01)\n",
    "        self.item_emb.weight.data.uniform_(0,0.05)\n",
    "        self.item_bias.weight.data.uniform_(-0.01,0.01)\n",
    "        \n",
    "    def forward(self, u, v):\n",
    "        U = self.user_emb(u)\n",
    "        V = self.item_emb(v)\n",
    "        b_u = self.user_bias(u).squeeze()\n",
    "        b_v = self.item_bias(v).squeeze()\n",
    "        z = (U*V).sum(1) +  b_u  + b_v\n",
    "        y_pred = torch.sigmoid(z)\n",
    "        return y_pred"
   ]
  },
  {
   "cell_type": "code",
   "execution_count": 12,
   "metadata": {
    "ExecuteTime": {
     "end_time": "2020-02-02T18:57:43.823637Z",
     "start_time": "2020-02-02T18:57:43.802411Z"
    }
   },
   "outputs": [],
   "source": [
    "# Define the loss function\n",
    "def valid_loss(model):\n",
    "    \n",
    "    # Prepare validation data\n",
    "    model.eval()\n",
    "    users = torch.LongTensor(valid.user.values) # .cuda()\n",
    "    items = torch.LongTensor(valid.item.values) #.cuda()\n",
    "    ratings = torch.FloatTensor(valid.rating.values) #.cuda()\n",
    "    \n",
    "    # Calculate y_hat validation and validation loss\n",
    "    y_hat = model(users, items)\n",
    "    loss = F.binary_cross_entropy(y_hat, ratings)   \n",
    "    \n",
    "    # Calculate validation accuracy\n",
    "    y_pred = torch.round(y_hat)\n",
    "    num_correct = torch.sum(torch.eq(y_pred, ratings)).float()\n",
    "    testaccuracy = torch.div(num_correct, ratings.size()[0])\n",
    "    return loss.item(), testaccuracy"
   ]
  },
  {
   "cell_type": "code",
   "execution_count": 13,
   "metadata": {
    "ExecuteTime": {
     "end_time": "2020-02-02T18:57:43.857178Z",
     "start_time": "2020-02-02T18:57:43.826173Z"
    }
   },
   "outputs": [],
   "source": [
    "# Define the train function\n",
    "def train_epocs(model, epochs=10, lr=0.01, wd=0.0):\n",
    "    optimizer = torch.optim.Adam(model.parameters(), lr=lr, weight_decay=wd)\n",
    "    for i in range(epochs):\n",
    "        \n",
    "        # Prepare training data\n",
    "        model.train()\n",
    "        train_users = torch.LongTensor(train.user.values)  #.cuda()\n",
    "        train_items = torch.LongTensor(train.item.values) #.cuda()\n",
    "        train_ratings = torch.FloatTensor(train.rating.values)  #.cuda()\n",
    "        \n",
    "        # Get training predictions\n",
    "        y_hat_train = model(train_users, train_items)\n",
    "        loss = F.binary_cross_entropy(y_hat_train, train_ratings)          \n",
    "        \n",
    "        # Zero gradients and update \n",
    "        optimizer.zero_grad()\n",
    "        loss.backward()\n",
    "        optimizer.step()\n",
    "        \n",
    "        # Calculate validation loss\n",
    "        testloss, testaccuracy = valid_loss(model)\n",
    "        print(\"train loss: %.3f, valid loss: %.3f\" % (loss.item(), testloss))\n",
    "        print(\"valid accuracy: %.3f\" % testaccuracy)\n",
    "        print(\"---------------------------------------\")"
   ]
  },
  {
   "cell_type": "markdown",
   "metadata": {},
   "source": [
    "#### First, I'll try with a small learning rate (0.01)"
   ]
  },
  {
   "cell_type": "code",
   "execution_count": 14,
   "metadata": {
    "ExecuteTime": {
     "end_time": "2020-02-02T18:57:46.351331Z",
     "start_time": "2020-02-02T18:57:43.858931Z"
    }
   },
   "outputs": [],
   "source": [
    "# Define the model\n",
    "model = MF(num_users, num_items, emb_size=100)"
   ]
  },
  {
   "cell_type": "code",
   "execution_count": 15,
   "metadata": {
    "ExecuteTime": {
     "end_time": "2020-02-02T19:02:57.369752Z",
     "start_time": "2020-02-02T18:57:46.353162Z"
    },
    "scrolled": true
   },
   "outputs": [
    {
     "name": "stdout",
     "output_type": "stream",
     "text": [
      "train loss: 0.694, valid loss: 0.689\n",
      "valid accuracy: 0.534\n",
      "---------------------------------------\n",
      "train loss: 0.681, valid loss: 0.684\n",
      "valid accuracy: 0.742\n",
      "---------------------------------------\n",
      "train loss: 0.679, valid loss: 0.680\n",
      "valid accuracy: 0.754\n",
      "---------------------------------------\n",
      "train loss: 0.673, valid loss: 0.676\n",
      "valid accuracy: 0.757\n",
      "---------------------------------------\n",
      "train loss: 0.666, valid loss: 0.673\n",
      "valid accuracy: 0.759\n",
      "---------------------------------------\n",
      "train loss: 0.654, valid loss: 0.670\n",
      "valid accuracy: 0.760\n",
      "---------------------------------------\n",
      "train loss: 0.651, valid loss: 0.668\n",
      "valid accuracy: 0.762\n",
      "---------------------------------------\n",
      "train loss: 0.650, valid loss: 0.665\n",
      "valid accuracy: 0.765\n",
      "---------------------------------------\n",
      "train loss: 0.649, valid loss: 0.663\n",
      "valid accuracy: 0.768\n",
      "---------------------------------------\n",
      "train loss: 0.649, valid loss: 0.660\n",
      "valid accuracy: 0.771\n",
      "---------------------------------------\n",
      "train loss: 0.650, valid loss: 0.659\n",
      "valid accuracy: 0.772\n",
      "---------------------------------------\n",
      "train loss: 0.650, valid loss: 0.657\n",
      "valid accuracy: 0.773\n",
      "---------------------------------------\n",
      "train loss: 0.649, valid loss: 0.655\n",
      "valid accuracy: 0.773\n",
      "---------------------------------------\n",
      "train loss: 0.649, valid loss: 0.654\n",
      "valid accuracy: 0.774\n",
      "---------------------------------------\n",
      "train loss: 0.649, valid loss: 0.653\n",
      "valid accuracy: 0.774\n",
      "---------------------------------------\n"
     ]
    }
   ],
   "source": [
    "# Train the model with a small learning rate\n",
    "train_epocs(model, epochs=15, lr=0.01, wd=1e-5)"
   ]
  },
  {
   "cell_type": "markdown",
   "metadata": {},
   "source": [
    "#### Next, I'll try with a larger learning rate (0.1)."
   ]
  },
  {
   "cell_type": "code",
   "execution_count": 16,
   "metadata": {
    "ExecuteTime": {
     "end_time": "2020-02-02T19:02:59.906332Z",
     "start_time": "2020-02-02T19:02:57.371899Z"
    }
   },
   "outputs": [],
   "source": [
    "# Define the model\n",
    "model = MF(num_users, num_items, emb_size=100)"
   ]
  },
  {
   "cell_type": "code",
   "execution_count": 17,
   "metadata": {
    "ExecuteTime": {
     "end_time": "2020-02-02T19:06:34.749802Z",
     "start_time": "2020-02-02T19:02:59.908729Z"
    }
   },
   "outputs": [
    {
     "name": "stdout",
     "output_type": "stream",
     "text": [
      "train loss: 0.694, valid loss: 0.722\n",
      "valid accuracy: 0.429\n",
      "---------------------------------------\n",
      "train loss: 0.674, valid loss: 0.639\n",
      "valid accuracy: 0.765\n",
      "---------------------------------------\n",
      "train loss: 0.625, valid loss: 0.639\n",
      "valid accuracy: 0.742\n",
      "---------------------------------------\n",
      "train loss: 0.643, valid loss: 0.655\n",
      "valid accuracy: 0.656\n",
      "---------------------------------------\n",
      "train loss: 0.664, valid loss: 0.641\n",
      "valid accuracy: 0.675\n",
      "---------------------------------------\n",
      "train loss: 0.649, valid loss: 0.623\n",
      "valid accuracy: 0.762\n",
      "---------------------------------------\n",
      "train loss: 0.632, valid loss: 0.617\n",
      "valid accuracy: 0.756\n",
      "---------------------------------------\n",
      "train loss: 0.612, valid loss: 0.619\n",
      "valid accuracy: 0.681\n",
      "---------------------------------------\n",
      "train loss: 0.604, valid loss: 0.619\n",
      "valid accuracy: 0.678\n",
      "---------------------------------------\n",
      "train loss: 0.603, valid loss: 0.615\n",
      "valid accuracy: 0.748\n",
      "---------------------------------------\n"
     ]
    }
   ],
   "source": [
    "# Train the model with a larger learning rate\n",
    "train_epocs(model, epochs=10, lr=0.1, wd=1e-5)"
   ]
  },
  {
   "cell_type": "markdown",
   "metadata": {},
   "source": [
    "#### The smaller learning rate produced a more consistent, gradual trend towards a smaller loss and higher accuracy (as expected). "
   ]
  }
 ],
 "metadata": {
  "kernelspec": {
   "display_name": "Python 3",
   "language": "python",
   "name": "python3"
  },
  "language_info": {
   "codemirror_mode": {
    "name": "ipython",
    "version": 3
   },
   "file_extension": ".py",
   "mimetype": "text/x-python",
   "name": "python",
   "nbconvert_exporter": "python",
   "pygments_lexer": "ipython3",
   "version": "3.6.4"
  },
  "toc": {
   "nav_menu": {},
   "number_sections": true,
   "sideBar": true,
   "skip_h1_title": false,
   "toc_cell": false,
   "toc_position": {},
   "toc_section_display": "block",
   "toc_window_display": false
  }
 },
 "nbformat": 4,
 "nbformat_minor": 2
}
