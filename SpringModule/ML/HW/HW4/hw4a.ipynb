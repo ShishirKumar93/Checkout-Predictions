{
 "cells": [
  {
   "cell_type": "markdown",
   "metadata": {
    "nbgrader": {
     "grade": false,
     "grade_id": "cell-cfc24d80c2cf2c24",
     "locked": true,
     "schema_version": 1,
     "solution": false
    }
   },
   "source": [
    "# Boosting small neural networks for binary classification\n",
    "For this exercise you will implement Boosting of small neural networks for a binary classification problem. You will be using pytorch to fit your neural network models. You will apply your model to a spam dataset.\n",
    "\n",
    "Recall from the class that the loss function for binary classification for $y \\in {1, -1}$ is $L(y, f) = \\log(1 + e^{-y\\cdot f(x)})$. Therefore the pseudo-residual $r_i$ is:\n",
    "\n",
    "$$ r_i = \\frac{y^{(i)}}{1+ e^{-y^{(i)}\\cdot f(x)}}$$\n",
    "\n",
    "In class we also derived the best constant for binary classification in this setting $f_0 = \\log(\\frac{1 + \\bar{y}}{1-\\bar{y}})$. For this algorithm instead of fitting a regression tree to $\\{(x^{(i)}, r_i)\\}_{i=1}^N$ at every iteration, we will fit a neural network model.\n",
    "\n",
    "Let's denote $T_m(x)$ is the fitted linear regression model at time $m$. At time $m$, updateds are given by $f_m = f_{m-1} + \\nu T_m$ where $\\nu$ is a fixed learing rate. After $M$ iterations we have learned\n",
    "$f_M = f_0 + \\sum_{m=1}^M \\nu \\cdot T_m$. Hard predictions are done by using the sign function \n",
    "$F(x) = sign(f_M) = sign(f_0 + \\sum_{m=1}^M \\nu \\cdot T_m)$. "
   ]
  },
  {
   "cell_type": "code",
   "execution_count": 1,
   "metadata": {
    "ExecuteTime": {
     "end_time": "2020-02-19T03:01:53.877952Z",
     "start_time": "2020-02-19T03:01:52.992591Z"
    },
    "nbgrader": {
     "grade": false,
     "grade_id": "cell-3478d607a536190b",
     "locked": true,
     "schema_version": 1,
     "solution": false
    }
   },
   "outputs": [],
   "source": [
    "from pathlib import Path\n",
    "import pandas as pd\n",
    "import numpy as np\n",
    "import math\n",
    "\n",
    "import torch\n",
    "import torch.nn as nn\n",
    "import torch.nn.functional as F\n",
    "from sklearn.preprocessing import StandardScaler"
   ]
  },
  {
   "cell_type": "code",
   "execution_count": 2,
   "metadata": {
    "ExecuteTime": {
     "end_time": "2020-02-19T03:01:53.882263Z",
     "start_time": "2020-02-19T03:01:53.880119Z"
    }
   },
   "outputs": [],
   "source": [
    "PATH = Path(\"data-hw3\")"
   ]
  },
  {
   "cell_type": "code",
   "execution_count": 3,
   "metadata": {
    "ExecuteTime": {
     "end_time": "2020-02-19T03:01:53.890046Z",
     "start_time": "2020-02-19T03:01:53.883730Z"
    },
    "nbgrader": {
     "grade": false,
     "grade_id": "cell-c56cb727222d9503",
     "locked": true,
     "schema_version": 1,
     "solution": false
    }
   },
   "outputs": [],
   "source": [
    "# accuracy computation\n",
    "# this data is not highly imbalance so accuracy is ok\n",
    "def accuracy(y, pred):\n",
    "    return np.sum(y == pred) / float(y.shape[0]) "
   ]
  },
  {
   "cell_type": "code",
   "execution_count": 4,
   "metadata": {
    "ExecuteTime": {
     "end_time": "2020-02-19T03:01:53.898425Z",
     "start_time": "2020-02-19T03:01:53.892308Z"
    },
    "nbgrader": {
     "grade": false,
     "grade_id": "cell-1eaf818528c8d676",
     "locked": false,
     "schema_version": 1,
     "solution": true
    }
   },
   "outputs": [],
   "source": [
    "def parse_spambase_data(filename):\n",
    "    \"\"\" Given a filename return X and Y numpy arrays\n",
    "\n",
    "    X is of size number of rows x num_features\n",
    "    Y is an array of size the number of rows\n",
    "    Y is the last element of each row. (Convert 0 to -1)\n",
    "    \"\"\"\n",
    "    dataset = np.loadtxt(filename, delimiter=\",\")\n",
    "    K = len(dataset[0])\n",
    "    Y = dataset[:, K - 1]\n",
    "    X = dataset[:, 0 : K - 1]\n",
    "    Y = np.array([-1. if y == 0. else 1. for y in Y])\n",
    "    return X, Y"
   ]
  },
  {
   "cell_type": "code",
   "execution_count": 5,
   "metadata": {
    "ExecuteTime": {
     "end_time": "2020-02-19T03:01:53.905815Z",
     "start_time": "2020-02-19T03:01:53.900430Z"
    }
   },
   "outputs": [],
   "source": [
    "def normalize(X, X_val):\n",
    "    \"\"\" Given X, X_val compute X_scaled, X_val_scaled\n",
    "    \n",
    "    Use StandardScaler()\n",
    "    return X_scaled, X_val_scaled\n",
    "    \"\"\"\n",
    "    ### BEGIN SOLUTION\n",
    "    scaler = StandardScaler()\n",
    "    X_scaled = scaler.fit_transform(X)\n",
    "    X_val_scaled = scaler.transform(X_val)\n",
    "    ### END SOLUTION\n",
    "    return X_scaled, X_val_scaled"
   ]
  },
  {
   "cell_type": "code",
   "execution_count": 6,
   "metadata": {
    "ExecuteTime": {
     "end_time": "2020-02-19T03:01:54.062804Z",
     "start_time": "2020-02-19T03:01:53.908534Z"
    }
   },
   "outputs": [],
   "source": [
    "X, Y = parse_spambase_data(PATH/\"spambase.train\")\n",
    "X_val, Y_val = parse_spambase_data(PATH/\"spambase.test\")\n",
    "X, X_val = normalize(X, X_val)"
   ]
  },
  {
   "cell_type": "code",
   "execution_count": 7,
   "metadata": {
    "ExecuteTime": {
     "end_time": "2020-02-19T03:01:54.067945Z",
     "start_time": "2020-02-19T03:01:54.064912Z"
    }
   },
   "outputs": [],
   "source": [
    "xx = np.around(X[0, :3],3)\n",
    "assert(np.array_equal(xx, np.array([-0.343, -0.168, -0.556])))"
   ]
  },
  {
   "cell_type": "code",
   "execution_count": 8,
   "metadata": {
    "ExecuteTime": {
     "end_time": "2020-02-19T03:01:54.079102Z",
     "start_time": "2020-02-19T03:01:54.069539Z"
    }
   },
   "outputs": [],
   "source": [
    "class NN(nn.Module):\n",
    "    def __init__(self, D, seed):\n",
    "        super(NN, self).__init__()\n",
    "        torch.manual_seed(seed) # this is for reproducibility\n",
    "        self.linear1 = nn.Linear(D,10)\n",
    "        self.linear2 = nn.Linear(10,1)\n",
    "        self.bn1 = nn.BatchNorm1d(num_features=10)\n",
    "        \n",
    "    def forward(self, x):\n",
    "        x = self.linear1(x)\n",
    "        x = self.bn1(F.relu(x))\n",
    "        return self.linear2(x)"
   ]
  },
  {
   "cell_type": "code",
   "execution_count": 9,
   "metadata": {
    "ExecuteTime": {
     "end_time": "2020-02-19T03:01:54.097866Z",
     "start_time": "2020-02-19T03:01:54.080646Z"
    }
   },
   "outputs": [],
   "source": [
    "def fitNN(model, X, r, epochs=22, lr=0.1):\n",
    "    \"\"\" Fit a regression model to the pseudo-residuals\n",
    "    \n",
    "    returns the fitted values on training data as a numpy array\n",
    "    Shape of the resturn should be (N,) not (N,1).\n",
    "    \"\"\"\n",
    "    ### BEGIN SOLUTION\n",
    "    X = torch.tensor(X).float()\n",
    "    r = torch.tensor(r).float()\n",
    "    optimizer = torch.optim.Adam(model.parameters(), lr=lr)\n",
    "                                \n",
    "    for _ in range(epochs):\n",
    "        model.train() \n",
    "        r_hat = model(X).squeeze()\n",
    "        loss = F.mse_loss(r_hat, r)\n",
    "\n",
    "        optimizer.zero_grad()\n",
    "        loss.backward()\n",
    "\n",
    "        optimizer.step()\n",
    "    \n",
    "    r_hat = model(X).squeeze()\n",
    "    out = r_hat\n",
    "    ### END SOLUTION\n",
    "    return out.detach().numpy()"
   ]
  },
  {
   "cell_type": "code",
   "execution_count": 10,
   "metadata": {
    "ExecuteTime": {
     "end_time": "2020-02-19T03:01:54.106983Z",
     "start_time": "2020-02-19T03:01:54.099730Z"
    }
   },
   "outputs": [],
   "source": [
    "def gradient_boosting_predict(X, f0, models, nu):\n",
    "    \"\"\"Given X, models, f0 and nu predict y_hat in {-1, 1}\n",
    "    \n",
    "    y_hat should be a numpy array with shape (N,)\n",
    "    \"\"\"\n",
    "    ### BEGIN SOLUTION\n",
    "    models = [model.eval() for model in models]\n",
    "    y_hat = np.sign(f0 + np.sum(np.array([model(torch.tensor(X).float()).detach().numpy().squeeze() \n",
    "                                 for model in models]) * nu, axis=0))\n",
    "    ### END SOLUTION\n",
    "    return y_hat "
   ]
  },
  {
   "cell_type": "code",
   "execution_count": 11,
   "metadata": {
    "ExecuteTime": {
     "end_time": "2020-02-19T03:01:54.112802Z",
     "start_time": "2020-02-19T03:01:54.108866Z"
    }
   },
   "outputs": [],
   "source": [
    "def compute_pseudo_residual(Y, fm):\n",
    "    \"\"\" vectorized computation of the pseudoresidual\n",
    "    \"\"\"\n",
    "    ### BEGIN SOLUTION\n",
    "    res = np.divide(Y, 1 + np.exp(np.multiply(Y, fm)))\n",
    "    ### END SOLUTION\n",
    "    return res"
   ]
  },
  {
   "cell_type": "code",
   "execution_count": 12,
   "metadata": {
    "ExecuteTime": {
     "end_time": "2020-02-19T03:01:54.120221Z",
     "start_time": "2020-02-19T03:01:54.114276Z"
    },
    "scrolled": true
   },
   "outputs": [],
   "source": [
    "y = np.array([-1, -1, 1, 1])\n",
    "fm = np.array([-0.4, .1, -0.3 , 2])\n",
    "res = compute_pseudo_residual(y, fm)\n",
    "xx = np.around(res, 3)\n",
    "actual = np.array([-0.401, -0.525,  0.574,  0.119])\n",
    "assert(np.array_equal(xx, actual))"
   ]
  },
  {
   "cell_type": "code",
   "execution_count": 13,
   "metadata": {
    "ExecuteTime": {
     "end_time": "2020-02-19T03:01:54.138422Z",
     "start_time": "2020-02-19T03:01:54.121905Z"
    },
    "nbgrader": {
     "grade": false,
     "grade_id": "cell-befcece7be9c6839",
     "locked": false,
     "schema_version": 1,
     "solution": true
    }
   },
   "outputs": [],
   "source": [
    "def boostingNN(X, Y, num_iter, nu):\n",
    "    \"\"\"Given an numpy matrix X, a array y and num_iter return trees and weights \n",
    "   \n",
    "    Input: X, y, num_iter\n",
    "    Outputs: array of Regression models\n",
    "    Assumes y is {-1, 1}\n",
    "    \"\"\"\n",
    "    models = []\n",
    "    N, D = X.shape\n",
    "    seeds = [s+1 for s in range(num_iter)] # use this seeds to call the model\n",
    "    \n",
    "    ### BEGIN SOLUTION\n",
    "    f0 = np.log((1 + X.mean()) / (1 - X.mean()))\n",
    "    fm = f0.copy()\n",
    "    for i in range(num_iter):\n",
    "        model = NN(D=D, seed=seeds[i])\n",
    "        r = compute_pseudo_residual(Y, fm)\n",
    "        r_hat = fitNN(model, X, r)\n",
    "        models.append(model)\n",
    "        fm += (nu * r_hat)\n",
    "    \n",
    "    ### END SOLUTION\n",
    "    return f0, models"
   ]
  },
  {
   "cell_type": "code",
   "execution_count": 14,
   "metadata": {
    "ExecuteTime": {
     "end_time": "2020-02-19T03:01:54.285819Z",
     "start_time": "2020-02-19T03:01:54.139979Z"
    }
   },
   "outputs": [],
   "source": [
    "X, Y = parse_spambase_data(PATH/\"spambase.train\")\n",
    "X_val, Y_val = parse_spambase_data(PATH/\"spambase.test\")\n",
    "X, X_val = normalize(X, X_val)"
   ]
  },
  {
   "cell_type": "code",
   "execution_count": 15,
   "metadata": {
    "ExecuteTime": {
     "end_time": "2020-02-19T03:01:55.124524Z",
     "start_time": "2020-02-19T03:01:54.287554Z"
    }
   },
   "outputs": [],
   "source": [
    "nu = .1\n",
    "f0, models = boostingNN(X, Y, num_iter=20, nu=nu)\n",
    "y_hat = gradient_boosting_predict(X, f0, models, nu=nu)"
   ]
  },
  {
   "cell_type": "code",
   "execution_count": 16,
   "metadata": {
    "ExecuteTime": {
     "end_time": "2020-02-19T03:01:55.129876Z",
     "start_time": "2020-02-19T03:01:55.126443Z"
    }
   },
   "outputs": [],
   "source": [
    "acc_train = accuracy(Y, y_hat)\n",
    "assert(np.around(acc_train, decimals=3)==0.919)"
   ]
  },
  {
   "cell_type": "code",
   "execution_count": 18,
   "metadata": {
    "ExecuteTime": {
     "end_time": "2020-02-19T03:01:55.158113Z",
     "start_time": "2020-02-19T03:01:55.146103Z"
    }
   },
   "outputs": [],
   "source": [
    "y_hat = gradient_boosting_predict(X_val, f0, models, nu=nu)\n",
    "acc_val = accuracy(Y_val, y_hat)\n",
    "assert(np.around(acc_val, decimals=4)==0.927)"
   ]
  }
 ],
 "metadata": {
  "celltoolbar": "Create Assignment",
  "kernelspec": {
   "display_name": "Python 3",
   "language": "python",
   "name": "python3"
  },
  "language_info": {
   "codemirror_mode": {
    "name": "ipython",
    "version": 3
   },
   "file_extension": ".py",
   "mimetype": "text/x-python",
   "name": "python",
   "nbconvert_exporter": "python",
   "pygments_lexer": "ipython3",
   "version": "3.6.4"
  },
  "toc": {
   "nav_menu": {},
   "number_sections": true,
   "sideBar": true,
   "skip_h1_title": false,
   "toc_cell": false,
   "toc_position": {},
   "toc_section_display": "block",
   "toc_window_display": false
  }
 },
 "nbformat": 4,
 "nbformat_minor": 2
}
